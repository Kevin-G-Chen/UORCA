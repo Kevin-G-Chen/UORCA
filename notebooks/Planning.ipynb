{
 "cells": [
  {
   "cell_type": "markdown",
   "id": "9b38f7f6-7e18-401e-895e-72d557c640b3",
   "metadata": {},
   "source": [
    "# Planning \n",
    "\n",
    "This notebook will just consist of markdown/text (i.e. no code). I will jot down some of the \"big\" ideas that I want to keep a track of - i.e. planning"
   ]
  },
  {
   "cell_type": "markdown",
   "id": "ae326df8-fc30-428d-a855-c408b4ed615f",
   "metadata": {},
   "source": [
    "## Agents"
   ]
  },
  {
   "cell_type": "markdown",
   "id": "35256faa-7a3c-4d53-a6e2-eb8a65a38d9d",
   "metadata": {},
   "source": [
    "### Agent for finding files\n",
    "\n",
    "In notebooks/3_analyse_data/KallistoQuantification_AltApproach.ipynb , I have code to find files. In theory, I think this is something I will be reusing (in fact, just there, I use it to find index files and FASTQ files). Therefore, I might be looking to implement this in other situations too..."
   ]
  },
  {
   "cell_type": "markdown",
   "id": "ae65e51d-de41-4ccd-88dc-856a9e227d3d",
   "metadata": {},
   "source": [
    "### Agent for internal evaluation\n",
    "\n",
    "Note this is different to the external validation that I will use to assess the performance of the pipeline. \n",
    "\n",
    "This would just be a \"here are results, what do you think of these results?\" (e.g. in dataset identification)"
   ]
  },
  {
   "cell_type": "markdown",
   "id": "0361e983-2163-49fd-ba93-417f09ea93ff",
   "metadata": {},
   "source": [
    "## Directory structure stuff..."
   ]
  },
  {
   "cell_type": "markdown",
   "id": "fc0bd214-fd2c-4f01-a8c1-59c72cc65c06",
   "metadata": {},
   "source": [
    "### Prompts\n",
    "\n",
    "I will want to have somewhere the prompts are stored."
   ]
  },
  {
   "cell_type": "markdown",
   "id": "fea82cb7-e0d9-41ee-bae4-b19a506c02d9",
   "metadata": {},
   "source": [
    "## Overall workflow stuff"
   ]
  },
  {
   "cell_type": "markdown",
   "id": "f63e36be-cdea-4e2d-9b64-8429631db5af",
   "metadata": {},
   "source": [
    "Here, I will be writing out the workflow in full. "
   ]
  },
  {
   "cell_type": "markdown",
   "id": "3da890f3-c390-4b64-aff0-18ec69d12670",
   "metadata": {},
   "source": [
    "## Dataset identification\n",
    "\n",
    "### Initial dataset screen\n",
    "INPUT: Research query (textual, user-inputted)\n",
    "OUTPUT: Search terms\n",
    "INPUT: Search terms\n",
    "OUTPUT: List of dataset descriptions\n",
    "\n",
    "### First evaluation\n",
    "INPUT: List of dataset descriptions\n",
    "OUTPUT: Refined selection of datasets"
   ]
  },
  {
   "cell_type": "markdown",
   "id": "ff0f5a4f-1ab0-4031-912f-665922a79cd8",
   "metadata": {},
   "source": [
    "## Data extraction\n",
    "\n",
    "### ...everything\n",
    "INPUT: GEO accession ID\n",
    "OUTPUT: FASTQ files, metadata, \"linking file\""
   ]
  },
  {
   "cell_type": "markdown",
   "id": "f09cb36f-ba01-488c-aaf8-09e2c0f16adf",
   "metadata": {},
   "source": [
    "## Data analysis\n",
    "\n",
    "### Kallisto quantification\n",
    "INPUT: FASTQ files, metadata\n",
    "OUTPUT: Kallisto quantification files\n",
    "\n",
    "### DEG Analysis\n",
    "INPUT: Kallisto quantification files, sample metadata\n",
    "OUTPUT: DEGs"
   ]
  },
  {
   "cell_type": "code",
   "execution_count": null,
   "id": "7928e8f9-ef1c-48c1-bd28-6b8afaeafb99",
   "metadata": {},
   "outputs": [],
   "source": []
  }
 ],
 "metadata": {
  "kernelspec": {
   "display_name": "Python 3 (ipykernel)",
   "language": "python",
   "name": "python3"
  },
  "language_info": {
   "codemirror_mode": {
    "name": "ipython",
    "version": 3
   },
   "file_extension": ".py",
   "mimetype": "text/x-python",
   "name": "python",
   "nbconvert_exporter": "python",
   "pygments_lexer": "ipython3",
   "version": "3.12.7"
  }
 },
 "nbformat": 4,
 "nbformat_minor": 5
}
