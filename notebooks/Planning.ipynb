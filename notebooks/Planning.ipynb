{
 "cells": [
  {
   "cell_type": "markdown",
   "id": "9b38f7f6-7e18-401e-895e-72d557c640b3",
   "metadata": {},
   "source": [
    "# Planning \n",
    "\n",
    "This notebook will just consist of markdown/text (i.e. no code). I will jot down some of the \"big\" ideas that I want to keep a track of - i.e. planning"
   ]
  },
  {
   "cell_type": "markdown",
   "id": "ae326df8-fc30-428d-a855-c408b4ed615f",
   "metadata": {},
   "source": [
    "## Agents"
   ]
  },
  {
   "cell_type": "markdown",
   "id": "35256faa-7a3c-4d53-a6e2-eb8a65a38d9d",
   "metadata": {},
   "source": [
    "### Agent for finding files\n",
    "\n",
    "In notebooks/3_analyse_data/KallistoQuantification_AltApproach.ipynb , I have code to find files. In theory, I think this is something I will be reusing (in fact, just there, I use it to find index files and FASTQ files). Therefore, I might be looking to implement this in other situations too..."
   ]
  },
  {
   "cell_type": "markdown",
   "id": "ae65e51d-de41-4ccd-88dc-856a9e227d3d",
   "metadata": {},
   "source": [
    "### Agent for internal evaluation\n",
    "\n",
    "Note this is different to the external validation that I will use to assess the performance of the pipeline. \n",
    "\n",
    "This would just be a \"here are results, what do you think of these results?\" (e.g. in dataset identification)"
   ]
  },
  {
   "cell_type": "markdown",
   "id": "0361e983-2163-49fd-ba93-417f09ea93ff",
   "metadata": {},
   "source": [
    "## Directory structure stuff..."
   ]
  },
  {
   "cell_type": "markdown",
   "id": "fc0bd214-fd2c-4f01-a8c1-59c72cc65c06",
   "metadata": {},
   "source": [
    "### Prompts\n",
    "\n",
    "I will want to have somewhere the prompts are stored."
   ]
  },
  {
   "cell_type": "code",
   "execution_count": null,
   "id": "8f29653d-60e3-4eab-a2a9-3e17ebf2f22f",
   "metadata": {},
   "outputs": [],
   "source": []
  }
 ],
 "metadata": {
  "kernelspec": {
   "display_name": "Python 3 (ipykernel)",
   "language": "python",
   "name": "python3"
  },
  "language_info": {
   "codemirror_mode": {
    "name": "ipython",
    "version": 3
   },
   "file_extension": ".py",
   "mimetype": "text/x-python",
   "name": "python",
   "nbconvert_exporter": "python",
   "pygments_lexer": "ipython3",
   "version": "3.12.7"
  }
 },
 "nbformat": 4,
 "nbformat_minor": 5
}
