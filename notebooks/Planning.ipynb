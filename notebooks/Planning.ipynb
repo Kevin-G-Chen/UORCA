{
 "cells": [
  {
   "cell_type": "markdown",
   "id": "9b38f7f6-7e18-401e-895e-72d557c640b3",
   "metadata": {},
   "source": [
    "# Planning \n",
    "\n",
    "This notebook will just consist of markdown/text (i.e. no code). I will jot down some of the \"big\" ideas that I want to keep a track of - i.e. planning"
   ]
  },
  {
   "cell_type": "markdown",
   "id": "ae326df8-fc30-428d-a855-c408b4ed615f",
   "metadata": {},
   "source": [
    "# Agents"
   ]
  },
  {
   "cell_type": "markdown",
   "id": "35256faa-7a3c-4d53-a6e2-eb8a65a38d9d",
   "metadata": {},
   "source": [
    "### Agent for finding files\n",
    "\n",
    "In notebooks/3_analyse_data/KallistoQuantification_AltApproach.ipynb , I have code to find files. In theory, I think this is something I will be reusing (in fact, just there, I use it to find index files and FASTQ files). Therefore, I might be looking to implement this in other situations too..."
   ]
  },
  {
   "cell_type": "markdown",
   "id": "ae65e51d-de41-4ccd-88dc-856a9e227d3d",
   "metadata": {},
   "source": [
    "### Agent for internal evaluation\n",
    "\n",
    "Note this is different to the external validation that I will use to assess the performance of the pipeline. \n",
    "\n",
    "This would just be a \"here are results, what do you think of these results?\" (e.g. in dataset identification)"
   ]
  },
  {
   "cell_type": "markdown",
   "id": "0361e983-2163-49fd-ba93-417f09ea93ff",
   "metadata": {},
   "source": [
    "# Directory structure stuff..."
   ]
  },
  {
   "cell_type": "markdown",
   "id": "fc0bd214-fd2c-4f01-a8c1-59c72cc65c06",
   "metadata": {},
   "source": [
    "### Prompts\n",
    "\n",
    "I will want to have somewhere the prompts are stored."
   ]
  },
  {
   "cell_type": "markdown",
   "id": "fea82cb7-e0d9-41ee-bae4-b19a506c02d9",
   "metadata": {},
   "source": [
    "# Overall workflow stuff"
   ]
  },
  {
   "cell_type": "markdown",
   "id": "f63e36be-cdea-4e2d-9b64-8429631db5af",
   "metadata": {},
   "source": [
    "Here, I will be writing out the workflow in full. "
   ]
  },
  {
   "cell_type": "markdown",
   "id": "3da890f3-c390-4b64-aff0-18ec69d12670",
   "metadata": {},
   "source": [
    "## Dataset identification\n",
    "\n",
    "### Initial dataset screen\n",
    "INPUT: Research query (textual, user-inputted)\n",
    "OUTPUT: Search terms\n",
    "INPUT: Search terms\n",
    "OUTPUT: List of dataset descriptions\n",
    "\n",
    "### First evaluation\n",
    "INPUT: List of dataset descriptions\n",
    "OUTPUT: Refined selection of datasets"
   ]
  },
  {
   "cell_type": "markdown",
   "id": "ff0f5a4f-1ab0-4031-912f-665922a79cd8",
   "metadata": {},
   "source": [
    "## Data extraction\n",
    "\n",
    "### ...everything\n",
    "INPUT: GEO accession ID\n",
    "OUTPUT: FASTQ files, metadata, \"linking file\""
   ]
  },
  {
   "cell_type": "markdown",
   "id": "f09cb36f-ba01-488c-aaf8-09e2c0f16adf",
   "metadata": {},
   "source": [
    "## Data analysis\n",
    "\n",
    "### Kallisto quantification\n",
    "INPUT: FASTQ files, metadata\n",
    "OUTPUT: Kallisto quantification files\n",
    "\n",
    "### DEG Analysis\n",
    "INPUT: Kallisto quantification files, sample metadata\n",
    "OUTPUT: DEGs"
   ]
  },
  {
   "cell_type": "markdown",
   "id": "179e172d-9bd6-4e40-a6af-46e817e3f1c9",
   "metadata": {},
   "source": [
    "# Notes on internval evalutations\n",
    "\n",
    "Here, I will keep a record of the internal evaluations that I will want to be making throughout the pipeline."
   ]
  },
  {
   "cell_type": "markdown",
   "id": "32babdb7-d0ed-49be-a369-4ec1111e13dd",
   "metadata": {},
   "source": [
    "## Dataset identification\n",
    "\n",
    "- [keyword identification] Are the keywords reasonable for the research query? (Assess the keywords)\n",
    "  - If no, then remove junk keywords\n",
    "- [Perform NCBI search] Was the NCBI GEO search executed correctly? (Assess the results dataframe)\n",
    "  - If no, then... assess error and...?\n",
    "- [Determine study relevance] Evaluate datasets (Assess study summary...)\n",
    "  - I have this already, but need to think about if the way it is implemented is set in stone or not (it likely is not)\n",
    "\n",
    "## Data extraction\n",
    "\n",
    "- [FASTQ file extraction] Were FASTQ files extracted correctly? (Check that FASTQ files were found, check SRA IDs file)\n",
    "- [Metadata extraction] Was the metadata extracted correctly? (Check that metadata CSVs were found)\n",
    "\n",
    "(If either of the above fail, skip dataset...?)\n",
    "\n",
    "## Data analysis\n",
    "\n",
    "- [Determine Kallisto parameters] Are the Kallisto parameters reasonable given the provided information? (Assess Kallisto parameters)\n",
    "   - If no... redo parameter generation...?\n",
    "- [Perform Kallisto quantification][Were the abundance files produced correctly? (Check that abundance.tsv files were found + stdout)\n",
    "   - If no, redo parameter generation using stdout...?\n",
    "- [Identify contrasts to analyse] Are the identified contrasts valuable? (Assess contrasts)\n",
    "   - If no... redo contrast generation...?\n",
    "- [Perform DEG analysis] Were DEGs generated (was the R script executed correctly)? (Check the R script stdout)"
   ]
  },
  {
   "cell_type": "markdown",
   "id": "5721390d-9c6a-4c65-91b4-1ec8cf171550",
   "metadata": {},
   "source": [
    "# Notes on value\n",
    "\n",
    "Here, I will jot down notes on where value can be delivered. \n",
    "\n",
    "I will begin by focussing on the agentic workflow itself, and then consider broader applications.\n",
    "\n",
    "## WHAT INSIGHTS WILL THIS WORK DELIVER?\n",
    "\n",
    "- Genes that are differentially expressed in disease conditions, in different contexts (i.e. are there some genes which, across multiple studies, are differentially expressed?)\n",
    "- Pathways that are\n",
    "- (begin considering other -omics too)"
   ]
  }
 ],
 "metadata": {
  "kernelspec": {
   "display_name": "Python 3 (ipykernel)",
   "language": "python",
   "name": "python3"
  },
  "language_info": {
   "codemirror_mode": {
    "name": "ipython",
    "version": 3
   },
   "file_extension": ".py",
   "mimetype": "text/x-python",
   "name": "python",
   "nbconvert_exporter": "python",
   "pygments_lexer": "ipython3",
   "version": "3.12.7"
  }
 },
 "nbformat": 4,
 "nbformat_minor": 5
}
