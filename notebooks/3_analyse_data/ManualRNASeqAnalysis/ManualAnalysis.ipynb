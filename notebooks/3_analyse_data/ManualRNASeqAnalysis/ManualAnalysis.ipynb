{
 "cells": [
  {
   "cell_type": "markdown",
   "id": "c6e0e20f-8228-4fb3-857a-18492d466175",
   "metadata": {},
   "source": [
    "# About this notebook\n",
    "\n",
    "This notebook will contain my manual analysis of some abundance files/metadata I am using for testing purposes. \n",
    "\n",
    "The idea is to get a \"reference\" of sort of what I would normally do, and compare this to what the LLM decides to do."
   ]
  },
  {
   "cell_type": "code",
   "execution_count": 1,
   "id": "71e38b32-50ce-4a80-a746-cc0bbf2963b0",
   "metadata": {},
   "outputs": [
    {
     "name": "stderr",
     "output_type": "stream",
     "text": [
      "── \u001b[1mAttaching core tidyverse packages\u001b[22m ──────────────────────── tidyverse 2.0.0 ──\n",
      "\u001b[32m✔\u001b[39m \u001b[34mdplyr    \u001b[39m 1.1.4     \u001b[32m✔\u001b[39m \u001b[34mreadr    \u001b[39m 2.1.5\n",
      "\u001b[32m✔\u001b[39m \u001b[34mforcats  \u001b[39m 1.0.0     \u001b[32m✔\u001b[39m \u001b[34mstringr  \u001b[39m 1.5.1\n",
      "\u001b[32m✔\u001b[39m \u001b[34mggplot2  \u001b[39m 3.5.1     \u001b[32m✔\u001b[39m \u001b[34mtibble   \u001b[39m 3.2.1\n",
      "\u001b[32m✔\u001b[39m \u001b[34mlubridate\u001b[39m 1.9.3     \u001b[32m✔\u001b[39m \u001b[34mtidyr    \u001b[39m 1.3.1\n",
      "\u001b[32m✔\u001b[39m \u001b[34mpurrr    \u001b[39m 1.0.2     \n",
      "── \u001b[1mConflicts\u001b[22m ────────────────────────────────────────── tidyverse_conflicts() ──\n",
      "\u001b[31m✖\u001b[39m \u001b[34mdplyr\u001b[39m::\u001b[32mfilter()\u001b[39m masks \u001b[34mstats\u001b[39m::filter()\n",
      "\u001b[31m✖\u001b[39m \u001b[34mdplyr\u001b[39m::\u001b[32mlag()\u001b[39m    masks \u001b[34mstats\u001b[39m::lag()\n",
      "\u001b[36mℹ\u001b[39m Use the conflicted package (\u001b[3m\u001b[34m<http://conflicted.r-lib.org/>\u001b[39m\u001b[23m) to force all conflicts to become errors\n",
      "Loading required package: limma\n",
      "\n",
      "Loading required package: S4Vectors\n",
      "\n",
      "Loading required package: stats4\n",
      "\n",
      "Loading required package: BiocGenerics\n",
      "\n",
      "\n",
      "Attaching package: ‘BiocGenerics’\n",
      "\n",
      "\n",
      "The following object is masked from ‘package:limma’:\n",
      "\n",
      "    plotMA\n",
      "\n",
      "\n",
      "The following objects are masked from ‘package:lubridate’:\n",
      "\n",
      "    intersect, setdiff, union\n",
      "\n",
      "\n",
      "The following objects are masked from ‘package:dplyr’:\n",
      "\n",
      "    combine, intersect, setdiff, union\n",
      "\n",
      "\n",
      "The following objects are masked from ‘package:stats’:\n",
      "\n",
      "    IQR, mad, sd, var, xtabs\n",
      "\n",
      "\n",
      "The following objects are masked from ‘package:base’:\n",
      "\n",
      "    anyDuplicated, aperm, append, as.data.frame, basename, cbind,\n",
      "    colnames, dirname, do.call, duplicated, eval, evalq, Filter, Find,\n",
      "    get, grep, grepl, intersect, is.unsorted, lapply, Map, mapply,\n",
      "    match, mget, order, paste, pmax, pmax.int, pmin, pmin.int,\n",
      "    Position, rank, rbind, Reduce, rownames, sapply, setdiff, sort,\n",
      "    table, tapply, union, unique, unsplit, which.max, which.min\n",
      "\n",
      "\n",
      "\n",
      "Attaching package: ‘S4Vectors’\n",
      "\n",
      "\n",
      "The following objects are masked from ‘package:lubridate’:\n",
      "\n",
      "    second, second<-\n",
      "\n",
      "\n",
      "The following objects are masked from ‘package:dplyr’:\n",
      "\n",
      "    first, rename\n",
      "\n",
      "\n",
      "The following object is masked from ‘package:tidyr’:\n",
      "\n",
      "    expand\n",
      "\n",
      "\n",
      "The following objects are masked from ‘package:base’:\n",
      "\n",
      "    expand.grid, I, unname\n",
      "\n",
      "\n",
      "Loading required package: IRanges\n",
      "\n",
      "\n",
      "Attaching package: ‘IRanges’\n",
      "\n",
      "\n",
      "The following object is masked from ‘package:lubridate’:\n",
      "\n",
      "    %within%\n",
      "\n",
      "\n",
      "The following objects are masked from ‘package:dplyr’:\n",
      "\n",
      "    collapse, desc, slice\n",
      "\n",
      "\n",
      "The following object is masked from ‘package:purrr’:\n",
      "\n",
      "    reduce\n",
      "\n",
      "\n",
      "Loading required package: GenomicRanges\n",
      "\n",
      "Loading required package: GenomeInfoDb\n",
      "\n",
      "Loading required package: SummarizedExperiment\n",
      "\n",
      "Loading required package: MatrixGenerics\n",
      "\n",
      "Loading required package: matrixStats\n",
      "\n",
      "\n",
      "Attaching package: ‘matrixStats’\n",
      "\n",
      "\n",
      "The following object is masked from ‘package:dplyr’:\n",
      "\n",
      "    count\n",
      "\n",
      "\n",
      "\n",
      "Attaching package: ‘MatrixGenerics’\n",
      "\n",
      "\n",
      "The following objects are masked from ‘package:matrixStats’:\n",
      "\n",
      "    colAlls, colAnyNAs, colAnys, colAvgsPerRowSet, colCollapse,\n",
      "    colCounts, colCummaxs, colCummins, colCumprods, colCumsums,\n",
      "    colDiffs, colIQRDiffs, colIQRs, colLogSumExps, colMadDiffs,\n",
      "    colMads, colMaxs, colMeans2, colMedians, colMins, colOrderStats,\n",
      "    colProds, colQuantiles, colRanges, colRanks, colSdDiffs, colSds,\n",
      "    colSums2, colTabulates, colVarDiffs, colVars, colWeightedMads,\n",
      "    colWeightedMeans, colWeightedMedians, colWeightedSds,\n",
      "    colWeightedVars, rowAlls, rowAnyNAs, rowAnys, rowAvgsPerColSet,\n",
      "    rowCollapse, rowCounts, rowCummaxs, rowCummins, rowCumprods,\n",
      "    rowCumsums, rowDiffs, rowIQRDiffs, rowIQRs, rowLogSumExps,\n",
      "    rowMadDiffs, rowMads, rowMaxs, rowMeans2, rowMedians, rowMins,\n",
      "    rowOrderStats, rowProds, rowQuantiles, rowRanges, rowRanks,\n",
      "    rowSdDiffs, rowSds, rowSums2, rowTabulates, rowVarDiffs, rowVars,\n",
      "    rowWeightedMads, rowWeightedMeans, rowWeightedMedians,\n",
      "    rowWeightedSds, rowWeightedVars\n",
      "\n",
      "\n",
      "Loading required package: Biobase\n",
      "\n",
      "Welcome to Bioconductor\n",
      "\n",
      "    Vignettes contain introductory material; view with\n",
      "    'browseVignettes()'. To cite Bioconductor, see\n",
      "    'citation(\"Biobase\")', and for packages 'citation(\"pkgname\")'.\n",
      "\n",
      "\n",
      "\n",
      "Attaching package: ‘Biobase’\n",
      "\n",
      "\n",
      "The following object is masked from ‘package:MatrixGenerics’:\n",
      "\n",
      "    rowMedians\n",
      "\n",
      "\n",
      "The following objects are masked from ‘package:matrixStats’:\n",
      "\n",
      "    anyMissing, rowMedians\n",
      "\n",
      "\n"
     ]
    }
   ],
   "source": [
    "# Load libraries\n",
    "\n",
    "library(tidyverse)\n",
    "library(edgeR)\n",
    "library(limma)\n",
    "library(tximport)\n",
    "library(DESeq2)"
   ]
  },
  {
   "cell_type": "code",
   "execution_count": 40,
   "id": "849f8dca-fa15-46a9-a685-f4165c85815d",
   "metadata": {},
   "outputs": [
    {
     "name": "stderr",
     "output_type": "stream",
     "text": [
      "\u001b[1mRows: \u001b[22m\u001b[34m12\u001b[39m \u001b[1mColumns: \u001b[22m\u001b[34m44\u001b[39m\n",
      "\u001b[36m──\u001b[39m \u001b[1mColumn specification\u001b[22m \u001b[36m────────────────────────────────────────────────────────\u001b[39m\n",
      "\u001b[1mDelimiter:\u001b[22m \",\"\n",
      "\u001b[31mchr\u001b[39m (41): title, geo_accession, status, submission_date, last_update_date, t...\n",
      "\u001b[32mdbl\u001b[39m  (3): channel_count, taxid_ch1, data_row_count\n",
      "\n",
      "\u001b[36mℹ\u001b[39m Use `spec()` to retrieve the full column specification for this data.\n",
      "\u001b[36mℹ\u001b[39m Specify the column types or set `show_col_types = FALSE` to quiet this message.\n"
     ]
    },
    {
     "ename": "ERROR",
     "evalue": "\u001b[1m\u001b[33mError\u001b[39m in `mutate()`:\u001b[22m\n\u001b[1m\u001b[22m\u001b[36mℹ\u001b[39m In argument: `genotype.clean = str_remove_all(meta$genotype.ch1, \"\n  \")`.\n\u001b[1mCaused by error:\u001b[22m\n\u001b[1m\u001b[22m\u001b[33m!\u001b[39m `genotype.clean` must be size 12 or 1, not 0.\n",
     "output_type": "error",
     "traceback": [
      "\u001b[1m\u001b[33mError\u001b[39m in `mutate()`:\u001b[22m\n\u001b[1m\u001b[22m\u001b[36mℹ\u001b[39m In argument: `genotype.clean = str_remove_all(meta$genotype.ch1, \"\n  \")`.\n\u001b[1mCaused by error:\u001b[22m\n\u001b[1m\u001b[22m\u001b[33m!\u001b[39m `genotype.clean` must be size 12 or 1, not 0.\nTraceback:\n",
      "1. read_csv(\"~/work/notebooks//Testing/GSE268034/GSE268034_series_matrix_metadata.csv\") %>% \n .     mutate(genotype.clean = str_remove_all(meta$genotype.ch1, \n .         \" \"))",
      "2. mutate(., genotype.clean = str_remove_all(meta$genotype.ch1, \n .     \" \"))",
      "3. mutate.data.frame(., genotype.clean = str_remove_all(meta$genotype.ch1, \n .     \" \"))",
      "4. mutate_cols(.data, dplyr_quosures(...), by)",
      "5. withCallingHandlers(for (i in seq_along(dots)) {\n .     poke_error_context(dots, i, mask = mask)\n .     context_poke(\"column\", old_current_column)\n .     new_columns <- mutate_col(dots[[i]], data, mask, new_columns)\n . }, error = dplyr_error_handler(dots = dots, mask = mask, bullets = mutate_bullets, \n .     error_call = error_call, error_class = \"dplyr:::mutate_error\"), \n .     warning = dplyr_warning_handler(state = warnings_state, mask = mask, \n .         error_call = error_call))",
      "6. mutate_col(dots[[i]], data, mask, new_columns)",
      "7. mask$eval_all_mutate(quo)",
      "8. eval()",
      "9. dplyr_internal_error(\"dplyr:::mutate_incompatible_size\", list(\n .     result_size = 0L, expected_size = 12L))",
      "10. abort(class = c(class, \"dplyr:::internal_error\"), dplyr_error_data = data)",
      "11. signal_abort(cnd, .file)",
      "12. signalCondition(cnd)",
      "13. (function (cnd) \n  . {\n  .     local_error_context(dots, i = frame[[i_sym]], mask = mask)\n  .     if (inherits(cnd, \"dplyr:::internal_error\")) {\n  .         parent <- error_cnd(message = bullets(cnd))\n  .     }\n  .     else {\n  .         parent <- cnd\n  .     }\n  .     message <- c(cnd_bullet_header(action), i = if (has_active_group_context(mask)) cnd_bullet_cur_group_label())\n  .     abort(message, class = error_class, parent = parent, call = error_call)\n  . })(structure(list(message = \"\", trace = structure(list(call = list(\n  .     IRkernel::main(), kernel$run(), handle_shell(), executor$execute(msg), \n  .     tryCatch(evaluate(request$content$code, envir = .GlobalEnv, \n  .         output_handler = oh, stop_on_error = 1L), interrupt = function(cond) {\n  .         log_debug(\"Interrupt during execution\")\n  .         interrupted <<- TRUE\n  .     }, error = .self$handle_error), tryCatchList(expr, classes, \n  .         parentenv, handlers), tryCatchOne(tryCatchList(expr, \n  .         names[-nh], parentenv, handlers[-nh]), names[nh], parentenv, \n  .         handlers[[nh]]), doTryCatch(return(expr), name, parentenv, \n  .         handler), tryCatchList(expr, names[-nh], parentenv, handlers[-nh]), \n  .     tryCatchOne(expr, names, parentenv, handlers[[1L]]), doTryCatch(return(expr), \n  .         name, parentenv, handler), evaluate(request$content$code, \n  .         envir = .GlobalEnv, output_handler = oh, stop_on_error = 1L), \n  .     evaluate_call(expr, parsed$src[[i]], envir = envir, enclos = enclos, \n  .         debug = debug, last = i == length(out), use_try = stop_on_error != \n  .             2L, keep_warning = keep_warning, keep_message = keep_message, \n  .         log_echo = log_echo, log_warning = log_warning, output_handler = output_handler, \n  .         include_timing = include_timing), timing_fn(handle(ev <- withCallingHandlers(withVisible(eval_with_user_handlers(expr, \n  .         envir, enclos, user_handlers)), warning = wHandler, error = eHandler, \n  .         message = mHandler))), handle(ev <- withCallingHandlers(withVisible(eval_with_user_handlers(expr, \n  .         envir, enclos, user_handlers)), warning = wHandler, error = eHandler, \n  .         message = mHandler)), try(f, silent = TRUE), tryCatch(expr, \n  .         error = function(e) {\n  .             call <- conditionCall(e)\n  .             if (!is.null(call)) {\n  .                 if (identical(call[[1L]], quote(doTryCatch))) \n  .                   call <- sys.call(-4L)\n  .                 dcall <- deparse(call, nlines = 1L)\n  .                 prefix <- paste(\"Error in\", dcall, \": \")\n  .                 LONG <- 75L\n  .                 sm <- strsplit(conditionMessage(e), \"\\n\")[[1L]]\n  .                 w <- 14L + nchar(dcall, type = \"w\") + nchar(sm[1L], \n  .                   type = \"w\")\n  .                 if (is.na(w)) \n  .                   w <- 14L + nchar(dcall, type = \"b\") + nchar(sm[1L], \n  .                     type = \"b\")\n  .                 if (w > LONG) \n  .                   prefix <- paste0(prefix, \"\\n  \")\n  .             }\n  .             else prefix <- \"Error : \"\n  .             msg <- paste0(prefix, conditionMessage(e), \"\\n\")\n  .             .Internal(seterrmessage(msg[1L]))\n  .             if (!silent && isTRUE(getOption(\"show.error.messages\"))) {\n  .                 cat(msg, file = outFile)\n  .                 .Internal(printDeferredWarnings())\n  .             }\n  .             invisible(structure(msg, class = \"try-error\", condition = e))\n  .         }), tryCatchList(expr, classes, parentenv, handlers), \n  .     tryCatchOne(expr, names, parentenv, handlers[[1L]]), doTryCatch(return(expr), \n  .         name, parentenv, handler), withCallingHandlers(withVisible(eval_with_user_handlers(expr, \n  .         envir, enclos, user_handlers)), warning = wHandler, error = eHandler, \n  .         message = mHandler), withVisible(eval_with_user_handlers(expr, \n  .         envir, enclos, user_handlers)), eval_with_user_handlers(expr, \n  .         envir, enclos, user_handlers), eval(expr, envir, enclos), \n  .     eval(expr, envir, enclos), read_csv(\"~/work/notebooks//Testing/GSE268034/GSE268034_series_matrix_metadata.csv\") %>% \n  .         mutate(genotype.clean = str_remove_all(meta$genotype.ch1, \n  .             \" \")), mutate(., genotype.clean = str_remove_all(meta$genotype.ch1, \n  .         \" \")), mutate.data.frame(., genotype.clean = str_remove_all(meta$genotype.ch1, \n  .         \" \")), mutate_cols(.data, dplyr_quosures(...), by), withCallingHandlers(for (i in seq_along(dots)) {\n  .         poke_error_context(dots, i, mask = mask)\n  .         context_poke(\"column\", old_current_column)\n  .         new_columns <- mutate_col(dots[[i]], data, mask, new_columns)\n  .     }, error = dplyr_error_handler(dots = dots, mask = mask, \n  .         bullets = mutate_bullets, error_call = error_call, error_class = \"dplyr:::mutate_error\"), \n  .         warning = dplyr_warning_handler(state = warnings_state, \n  .             mask = mask, error_call = error_call)), mutate_col(dots[[i]], \n  .         data, mask, new_columns), mask$eval_all_mutate(quo), \n  .     eval(), dplyr_internal_error(\"dplyr:::mutate_incompatible_size\", \n  .         `<named list>`), abort(class = c(class, \"dplyr:::internal_error\"), \n  .         dplyr_error_data = data)), parent = c(0L, 1L, 2L, 3L, \n  . 4L, 5L, 6L, 7L, 6L, 9L, 10L, 4L, 12L, 13L, 13L, 15L, 16L, 17L, \n  . 18L, 19L, 13L, 13L, 13L, 23L, 24L, 0L, 0L, 0L, 28L, 29L, 29L, \n  . 31L, 32L, 0L, 34L), visible = c(TRUE, TRUE, TRUE, TRUE, TRUE, \n  . TRUE, TRUE, TRUE, TRUE, TRUE, TRUE, TRUE, TRUE, TRUE, TRUE, TRUE, \n  . TRUE, TRUE, TRUE, TRUE, TRUE, TRUE, TRUE, TRUE, TRUE, TRUE, TRUE, \n  . TRUE, TRUE, TRUE, TRUE, TRUE, TRUE, TRUE, FALSE), namespace = c(\"IRkernel\", \n  . NA, \"IRkernel\", NA, \"base\", \"base\", \"base\", \"base\", \"base\", \"base\", \n  . \"base\", \"evaluate\", \"evaluate\", \"evaluate\", \"evaluate\", \"base\", \n  . \"base\", \"base\", \"base\", \"base\", \"base\", \"base\", \"evaluate\", \"base\", \n  . \"base\", NA, \"dplyr\", \"dplyr\", \"dplyr\", \"base\", \"dplyr\", NA, \"dplyr\", \n  . \"dplyr\", \"rlang\"), scope = c(\"::\", NA, \"local\", NA, \"::\", \"local\", \n  . \"local\", \"local\", \"local\", \"local\", \"local\", \"::\", \":::\", \"local\", \n  . \"local\", \"::\", \"::\", \"local\", \"local\", \"local\", \"::\", \"::\", \":::\", \n  . \"::\", \"::\", NA, \"::\", \":::\", \":::\", \"::\", \":::\", NA, \"local\", \n  . \":::\", \"::\"), error_frame = c(FALSE, FALSE, FALSE, FALSE, FALSE, \n  . FALSE, FALSE, FALSE, FALSE, FALSE, FALSE, FALSE, FALSE, FALSE, \n  . FALSE, FALSE, FALSE, FALSE, FALSE, FALSE, FALSE, FALSE, FALSE, \n  . FALSE, FALSE, FALSE, FALSE, FALSE, FALSE, FALSE, FALSE, FALSE, \n  . FALSE, TRUE, FALSE)), row.names = c(NA, -35L), version = 2L, class = c(\"rlang_trace\", \n  . \"rlib_trace\", \"tbl\", \"data.frame\")), parent = NULL, dplyr_error_data = list(\n  .     result_size = 0L, expected_size = 12L), rlang = list(inherit = TRUE), \n  .     call = dplyr_internal_error(\"dplyr:::mutate_incompatible_size\", \n  .         list(result_size = 0L, expected_size = 12L)), use_cli_format = TRUE), class = c(\"dplyr:::mutate_incompatible_size\", \n  . \"dplyr:::internal_error\", \"rlang_error\", \"error\", \"condition\"\n  . )))",
      "14. abort(message, class = error_class, parent = parent, call = error_call)",
      "15. signal_abort(cnd, .file)"
     ]
    }
   ],
   "source": [
    "# Load metadata\n",
    "\n",
    "meta <- read_csv(\"~/work/notebooks//Testing/GSE268034/GSE268034_series_matrix_metadata.csv\") %>%\n",
    "mutate(genotype.clean = str_remove_all(genotype.ch1, \" \"))\n",
    "meta"
   ]
  },
  {
   "cell_type": "code",
   "execution_count": 18,
   "id": "924fd26c-9bfa-4826-bd3c-bd0e8e17e058",
   "metadata": {},
   "outputs": [
    {
     "name": "stderr",
     "output_type": "stream",
     "text": [
      "\u001b[1mRows: \u001b[22m\u001b[34m227665\u001b[39m \u001b[1mColumns: \u001b[22m\u001b[34m8\u001b[39m\n",
      "\u001b[36m──\u001b[39m \u001b[1mColumn specification\u001b[22m \u001b[36m────────────────────────────────────────────────────────\u001b[39m\n",
      "\u001b[1mDelimiter:\u001b[22m \"\\t\"\n",
      "\u001b[31mchr\u001b[39m (6): X1, X2, X3, X4, X5, X8\n",
      "\u001b[32mdbl\u001b[39m (2): X6, X7\n",
      "\n",
      "\u001b[36mℹ\u001b[39m Use `spec()` to retrieve the full column specification for this data.\n",
      "\u001b[36mℹ\u001b[39m Specify the column types or set `show_col_types = FALSE` to quiet this message.\n",
      "Note: importing `abundance.h5` is typically faster than `abundance.tsv`\n",
      "\n",
      "reading in files with read_tsv\n",
      "\n",
      "1 \n",
      "2 \n",
      "3 \n",
      "4 \n",
      "5 \n",
      "6 \n",
      "7 \n",
      "8 \n",
      "9 \n",
      "10 \n",
      "11 \n",
      "12 \n",
      "\n",
      "\n",
      "transcripts missing from tx2gene: 24683\n",
      "\n",
      "summarizing abundance\n",
      "\n",
      "summarizing counts\n",
      "\n",
      "summarizing length\n",
      "\n"
     ]
    }
   ],
   "source": [
    "# List the abundance files. The tsv files should work...\n",
    "\n",
    "files <- list.files(path = \"~/work/data/kallisto_output/\",\n",
    "                    pattern = \"abundance.tsv\",\n",
    "                    recursive = TRUE,\n",
    "                    full.names = TRUE)\n",
    "tx2gene <- read_tsv(\"~/work/data/kallisto_indices//human/t2g.txt\",\n",
    "                   col_names = FALSE) %>%\n",
    "dplyr::select(1, 3) %>%\n",
    "drop_na()\n",
    "kallisto <- tximport(files = files,\n",
    "         type = \"kallisto\",\n",
    "         tx2gene = tx2gene,\n",
    "         ignoreAfterBar = TRUE,\n",
    "                    countsFromAbundance = \"lengthScaledTPM\")"
   ]
  },
  {
   "cell_type": "code",
   "execution_count": 24,
   "id": "9a680915-a242-4607-9fb9-af907a32f05e",
   "metadata": {},
   "outputs": [],
   "source": [
    "DGE <- DGEList(counts = kallisto$counts,\n",
    "              samples = meta)"
   ]
  },
  {
   "cell_type": "code",
   "execution_count": 25,
   "id": "7d7131bd-6d57-472d-9297-7fe6bf7fcc20",
   "metadata": {},
   "outputs": [
    {
     "name": "stdout",
     "output_type": "stream",
     "text": [
      "Formal class 'DGEList' [package \"edgeR\"] with 1 slot\n",
      "  ..@ .Data:List of 2\n",
      "  .. ..$ : num [1:25668, 1:12] 0 0 0 0 0 0 0 0 0 0 ...\n",
      "  .. .. ..- attr(*, \"dimnames\")=List of 2\n",
      "  .. .. .. ..$ : chr [1:25668] \"A1BG\" \"A1BG-AS1\" \"A1CF\" \"A2M\" ...\n",
      "  .. .. .. ..$ : chr [1:12] \"Sample1\" \"Sample2\" \"Sample3\" \"Sample4\" ...\n",
      "  .. ..$ :'data.frame':\t12 obs. of  47 variables:\n",
      "  .. .. ..$ group                  : Factor w/ 1 level \"1\": 1 1 1 1 1 1 1 1 1 1 ...\n",
      "  .. .. ..$ lib.size               : num [1:12] 26356 25952 28192 26604 25214 ...\n",
      "  .. .. ..$ norm.factors           : num [1:12] 1 1 1 1 1 1 1 1 1 1 ...\n",
      "  .. .. ..$ title                  : chr [1:12] \"SUDHL4_LacZ_RGFP0_1\" \"SUDHL4_LacZ_RGFP0_2\" \"SUDHL4_LacZ_RGFP5_1\" \"SUDHL4_LacZ_RGFP5_2\" ...\n",
      "  .. .. ..$ geo_accession          : chr [1:12] \"GSM8284502\" \"GSM8284503\" \"GSM8284504\" \"GSM8284505\" ...\n",
      "  .. .. ..$ status                 : chr [1:12] \"Public on Aug 08 2024\" \"Public on Aug 08 2024\" \"Public on Aug 08 2024\" \"Public on Aug 08 2024\" ...\n",
      "  .. .. ..$ submission_date        : chr [1:12] \"May 21 2024\" \"May 21 2024\" \"May 21 2024\" \"May 21 2024\" ...\n",
      "  .. .. ..$ last_update_date       : chr [1:12] \"Aug 08 2024\" \"Aug 08 2024\" \"Aug 08 2024\" \"Aug 08 2024\" ...\n",
      "  .. .. ..$ type                   : chr [1:12] \"SRA\" \"SRA\" \"SRA\" \"SRA\" ...\n",
      "  .. .. ..$ channel_count          : num [1:12] 1 1 1 1 1 1 1 1 1 1 ...\n",
      "  .. .. ..$ source_name_ch1        : chr [1:12] \"SU-DHL-4\" \"SU-DHL-4\" \"SU-DHL-4\" \"SU-DHL-4\" ...\n",
      "  .. .. ..$ organism_ch1           : chr [1:12] \"Homo sapiens\" \"Homo sapiens\" \"Homo sapiens\" \"Homo sapiens\" ...\n",
      "  .. .. ..$ characteristics_ch1    : chr [1:12] \"cell line: SU-DHL-4\" \"cell line: SU-DHL-4\" \"cell line: SU-DHL-4\" \"cell line: SU-DHL-4\" ...\n",
      "  .. .. ..$ characteristics_ch1.1  : chr [1:12] \"cell type: diffuse large B-cell lymphoma cells\" \"cell type: diffuse large B-cell lymphoma cells\" \"cell type: diffuse large B-cell lymphoma cells\" \"cell type: diffuse large B-cell lymphoma cells\" ...\n",
      "  .. .. ..$ characteristics_ch1.2  : chr [1:12] \"genotype: WT\" \"genotype: WT\" \"genotype: WT\" \"genotype: WT\" ...\n",
      "  .. .. ..$ characteristics_ch1.3  : chr [1:12] \"treatment: DMSO\" \"treatment: DMSO\" \"treatment: RGFP966 (5 µM)\" \"treatment: RGFP966 (5 µM)\" ...\n",
      "  .. .. ..$ treatment_protocol_ch1 : chr [1:12] \"Cells were treated with 5 µM RGFP966 (Selleckchem) or DMSO for five days.\" \"Cells were treated with 5 µM RGFP966 (Selleckchem) or DMSO for five days.\" \"Cells were treated with 5 µM RGFP966 (Selleckchem) or DMSO for five days.\" \"Cells were treated with 5 µM RGFP966 (Selleckchem) or DMSO for five days.\" ...\n",
      "  .. .. ..$ growth_protocol_ch1    : chr [1:12] \"Human diffuse large B-cell lymphoma cell line SU-DHL-4 was incubated in RPMI 1640 medium supplemented with 20% \"| __truncated__ \"Human diffuse large B-cell lymphoma cell line SU-DHL-4 was incubated in RPMI 1640 medium supplemented with 20% \"| __truncated__ \"Human diffuse large B-cell lymphoma cell line SU-DHL-4 was incubated in RPMI 1640 medium supplemented with 20% \"| __truncated__ \"Human diffuse large B-cell lymphoma cell line SU-DHL-4 was incubated in RPMI 1640 medium supplemented with 20% \"| __truncated__ ...\n",
      "  .. .. ..$ molecule_ch1           : chr [1:12] \"total RNA\" \"total RNA\" \"total RNA\" \"total RNA\" ...\n",
      "  .. .. ..$ extract_protocol_ch1   : chr [1:12] \"Total RNA was isolated RNeasy Mini Kit (QIAGEN) according to the manufacturer’s instructions. Samples were quan\"| __truncated__ \"Total RNA was isolated RNeasy Mini Kit (QIAGEN) according to the manufacturer’s instructions. Samples were quan\"| __truncated__ \"Total RNA was isolated RNeasy Mini Kit (QIAGEN) according to the manufacturer’s instructions. Samples were quan\"| __truncated__ \"Total RNA was isolated RNeasy Mini Kit (QIAGEN) according to the manufacturer’s instructions. Samples were quan\"| __truncated__ ...\n",
      "  .. .. ..$ extract_protocol_ch1.1 : chr [1:12] \"Libraries were prepared with 100 ng of total RNA using Stranded Total RNA prep with Ribo-Zero Plus kit (Illumin\"| __truncated__ \"Libraries were prepared with 100 ng of total RNA using Stranded Total RNA prep with Ribo-Zero Plus kit (Illumin\"| __truncated__ \"Libraries were prepared with 100 ng of total RNA using Stranded Total RNA prep with Ribo-Zero Plus kit (Illumin\"| __truncated__ \"Libraries were prepared with 100 ng of total RNA using Stranded Total RNA prep with Ribo-Zero Plus kit (Illumin\"| __truncated__ ...\n",
      "  .. .. ..$ taxid_ch1              : num [1:12] 9606 9606 9606 9606 9606 ...\n",
      "  .. .. ..$ data_processing        : chr [1:12] \"Sequencing data were first processed by trimming the low-quality reads and adapters using fastp (v0.23.2). The \"| __truncated__ \"Sequencing data were first processed by trimming the low-quality reads and adapters using fastp (v0.23.2). The \"| __truncated__ \"Sequencing data were first processed by trimming the low-quality reads and adapters using fastp (v0.23.2). The \"| __truncated__ \"Sequencing data were first processed by trimming the low-quality reads and adapters using fastp (v0.23.2). The \"| __truncated__ ...\n",
      "  .. .. ..$ data_processing.1      : chr [1:12] \"Assembly: GRCh38, GENCODE Ensembl 104 annotation\" \"Assembly: GRCh38, GENCODE Ensembl 104 annotation\" \"Assembly: GRCh38, GENCODE Ensembl 104 annotation\" \"Assembly: GRCh38, GENCODE Ensembl 104 annotation\" ...\n",
      "  .. .. ..$ data_processing.2      : chr [1:12] \"Supplementary files format and content: tab-delimited text files include raw counts for each sample\" \"Supplementary files format and content: tab-delimited text files include raw counts for each sample\" \"Supplementary files format and content: tab-delimited text files include raw counts for each sample\" \"Supplementary files format and content: tab-delimited text files include raw counts for each sample\" ...\n",
      "  .. .. ..$ platform_id            : chr [1:12] \"GPL24676\" \"GPL24676\" \"GPL24676\" \"GPL24676\" ...\n",
      "  .. .. ..$ contact_name           : chr [1:12] \"Robert,,Kridel\" \"Robert,,Kridel\" \"Robert,,Kridel\" \"Robert,,Kridel\" ...\n",
      "  .. .. ..$ contact_email          : chr [1:12] \"robert.kridel@uhn.ca\" \"robert.kridel@uhn.ca\" \"robert.kridel@uhn.ca\" \"robert.kridel@uhn.ca\" ...\n",
      "  .. .. ..$ contact_phone          : chr [1:12] \"+1 416-946-2243\" \"+1 416-946-2243\" \"+1 416-946-2243\" \"+1 416-946-2243\" ...\n",
      "  .. .. ..$ contact_institute      : chr [1:12] \"Princess Margaret Cancer Centre – University Health Network\" \"Princess Margaret Cancer Centre – University Health Network\" \"Princess Margaret Cancer Centre – University Health Network\" \"Princess Margaret Cancer Centre – University Health Network\" ...\n",
      "  .. .. ..$ contact_address        : chr [1:12] \"101 College St\" \"101 College St\" \"101 College St\" \"101 College St\" ...\n",
      "  .. .. ..$ contact_city           : chr [1:12] \"Toronto\" \"Toronto\" \"Toronto\" \"Toronto\" ...\n",
      "  .. .. ..$ contact_state          : chr [1:12] \"ON\" \"ON\" \"ON\" \"ON\" ...\n",
      "  .. .. ..$ contact_zip.postal_code: chr [1:12] \"M5G 1L7\" \"M5G 1L7\" \"M5G 1L7\" \"M5G 1L7\" ...\n",
      "  .. .. ..$ contact_country        : chr [1:12] \"Canada\" \"Canada\" \"Canada\" \"Canada\" ...\n",
      "  .. .. ..$ data_row_count         : num [1:12] 0 0 0 0 0 0 0 0 0 0 ...\n",
      "  .. .. ..$ instrument_model       : chr [1:12] \"Illumina NovaSeq 6000\" \"Illumina NovaSeq 6000\" \"Illumina NovaSeq 6000\" \"Illumina NovaSeq 6000\" ...\n",
      "  .. .. ..$ library_selection      : chr [1:12] \"cDNA\" \"cDNA\" \"cDNA\" \"cDNA\" ...\n",
      "  .. .. ..$ library_source         : chr [1:12] \"transcriptomic\" \"transcriptomic\" \"transcriptomic\" \"transcriptomic\" ...\n",
      "  .. .. ..$ library_strategy       : chr [1:12] \"RNA-Seq\" \"RNA-Seq\" \"RNA-Seq\" \"RNA-Seq\" ...\n",
      "  .. .. ..$ relation               : chr [1:12] \"BioSample: https://www.ncbi.nlm.nih.gov/biosample/SAMN41479047\" \"BioSample: https://www.ncbi.nlm.nih.gov/biosample/SAMN41479046\" \"BioSample: https://www.ncbi.nlm.nih.gov/biosample/SAMN41479045\" \"BioSample: https://www.ncbi.nlm.nih.gov/biosample/SAMN41479044\" ...\n",
      "  .. .. ..$ relation.1             : chr [1:12] \"SRA: https://www.ncbi.nlm.nih.gov/sra?term=SRX24625208\" \"SRA: https://www.ncbi.nlm.nih.gov/sra?term=SRX24625209\" \"SRA: https://www.ncbi.nlm.nih.gov/sra?term=SRX24625210\" \"SRA: https://www.ncbi.nlm.nih.gov/sra?term=SRX24625211\" ...\n",
      "  .. .. ..$ supplementary_file_1   : chr [1:12] \"ftp://ftp.ncbi.nlm.nih.gov/geo/samples/GSM8284nnn/GSM8284502/suppl/GSM8284502_SUDHL4_LacZ_RGFP0_1.txt.gz\" \"ftp://ftp.ncbi.nlm.nih.gov/geo/samples/GSM8284nnn/GSM8284503/suppl/GSM8284503_SUDHL4_LacZ_RGFP0_2.txt.gz\" \"ftp://ftp.ncbi.nlm.nih.gov/geo/samples/GSM8284nnn/GSM8284504/suppl/GSM8284504_SUDHL4_LacZ_RGFP5_1.txt.gz\" \"ftp://ftp.ncbi.nlm.nih.gov/geo/samples/GSM8284nnn/GSM8284505/suppl/GSM8284505_SUDHL4_LacZ_RGFP5_2.txt.gz\" ...\n",
      "  .. .. ..$ cell.line.ch1          : chr [1:12] \"SU-DHL-4\" \"SU-DHL-4\" \"SU-DHL-4\" \"SU-DHL-4\" ...\n",
      "  .. .. ..$ cell.type.ch1          : chr [1:12] \"diffuse large B-cell lymphoma cells\" \"diffuse large B-cell lymphoma cells\" \"diffuse large B-cell lymphoma cells\" \"diffuse large B-cell lymphoma cells\" ...\n",
      "  .. .. ..$ genotype.ch1           : chr [1:12] \"WT\" \"WT\" \"WT\" \"WT\" ...\n",
      "  .. .. ..$ treatment.ch1          : chr [1:12] \"DMSO\" \"DMSO\" \"RGFP966 (5 µM)\" \"RGFP966 (5 µM)\" ...\n",
      "  ..$ names: chr [1:2] \"counts\" \"samples\"\n"
     ]
    }
   ],
   "source": [
    "str(DGE)"
   ]
  },
  {
   "cell_type": "markdown",
   "id": "5bcac027-aaf5-4549-826f-edb52271363f",
   "metadata": {},
   "source": [
    "I'm immediately noticing I will need to integrate the results.txt (or whatever) output from when I extracted the FASTQ files, since this is the way I will be using to link GEO accessions to the SRA IDs.\n",
    "\n",
    "Just for testing purposes (to make sure all the command I intend can run on the container), I won't worry about this yet. However, it is something I will need to consider when building the framework.\n",
    "\n",
    "For whatever reason this was VERY quick (quicker than when I run this on my laptop...)"
   ]
  },
  {
   "cell_type": "code",
   "execution_count": 29,
   "id": "021268e4-9432-440b-bbef-7620fbd8d9dc",
   "metadata": {},
   "outputs": [],
   "source": [
    "keep.exprs <- filterByExpr(DGE,\n",
    "                          group = DGE$samples$genotype.ch1)"
   ]
  },
  {
   "cell_type": "code",
   "execution_count": 30,
   "id": "5afb826c-a188-4601-bd9a-74fec42341cb",
   "metadata": {},
   "outputs": [],
   "source": [
    "DGE.filtered <- DGE[keep.exprs, keep.lib.sizes = FALSE]"
   ]
  },
  {
   "cell_type": "code",
   "execution_count": 32,
   "id": "47a05d31-ab62-4c3a-9a2a-5961fedf542d",
   "metadata": {},
   "outputs": [
    {
     "data": {
      "text/html": [
       "<style>\n",
       ".list-inline {list-style: none; margin:0; padding: 0}\n",
       ".list-inline>li {display: inline-block}\n",
       ".list-inline>li:not(:last-child)::after {content: \"\\00b7\"; padding: 0 .5ex}\n",
       "</style>\n",
       "<ol class=list-inline><li>25668</li><li>12</li></ol>\n"
      ],
      "text/latex": [
       "\\begin{enumerate*}\n",
       "\\item 25668\n",
       "\\item 12\n",
       "\\end{enumerate*}\n"
      ],
      "text/markdown": [
       "1. 25668\n",
       "2. 12\n",
       "\n",
       "\n"
      ],
      "text/plain": [
       "[1] 25668    12"
      ]
     },
     "metadata": {},
     "output_type": "display_data"
    },
    {
     "data": {
      "text/html": [
       "<style>\n",
       ".list-inline {list-style: none; margin:0; padding: 0}\n",
       ".list-inline>li {display: inline-block}\n",
       ".list-inline>li:not(:last-child)::after {content: \"\\00b7\"; padding: 0 .5ex}\n",
       "</style>\n",
       "<ol class=list-inline><li>621</li><li>12</li></ol>\n"
      ],
      "text/latex": [
       "\\begin{enumerate*}\n",
       "\\item 621\n",
       "\\item 12\n",
       "\\end{enumerate*}\n"
      ],
      "text/markdown": [
       "1. 621\n",
       "2. 12\n",
       "\n",
       "\n"
      ],
      "text/plain": [
       "[1] 621  12"
      ]
     },
     "metadata": {},
     "output_type": "display_data"
    }
   ],
   "source": [
    "dim(DGE)\n",
    "dim(DGE.filtered)"
   ]
  },
  {
   "cell_type": "markdown",
   "id": "0f148124-b170-47cb-8cbc-0382906bc442",
   "metadata": {},
   "source": [
    "Ah. I imagine since I only am using a subset of the FASTQ files, that is why everything has been extraordinarily quick. "
   ]
  },
  {
   "cell_type": "code",
   "execution_count": 33,
   "id": "22d20dad-8535-4a2f-90a5-40b11b572cde",
   "metadata": {},
   "outputs": [],
   "source": [
    "DGE.final <- calcNormFactors(DGE.filtered)"
   ]
  },
  {
   "cell_type": "code",
   "execution_count": 36,
   "id": "3f2b3b0d-c2d2-4de9-805c-3268ac2fbe70",
   "metadata": {},
   "outputs": [
    {
     "ename": "ERROR",
     "evalue": "Error in makeContrasts(KO = \"GNAS knockout - WT\", levels = colnames(design)): The levels must by syntactically valid names in R, see help(make.names).  Non-valid names: GNAS knockout\n",
     "output_type": "error",
     "traceback": [
      "Error in makeContrasts(KO = \"GNAS knockout - WT\", levels = colnames(design)): The levels must by syntactically valid names in R, see help(make.names).  Non-valid names: GNAS knockout\nTraceback:\n",
      "1. makeContrasts(KO = \"GNAS knockout - WT\", levels = colnames(design))",
      "2. stop(\"The levels must by syntactically valid names in R, see help(make.names).  Non-valid names: \", \n .     paste(levels[notvalid], collapse = \",\"))"
     ]
    }
   ],
   "source": [
    "design <- model.matrix(data = DGE.final$samples,\n",
    "                       ~0 + genotype.ch1)\n",
    "colnames(design) <- str_remove_all(colnames(design),\n",
    "                                   \"genotype.ch1\")\n",
    "contrast.matrix <- makeContrasts(\n",
    "    KO = \"GNAS knockout - WT\",\n",
    "    levels = colnames(design))"
   ]
  },
  {
   "cell_type": "code",
   "execution_count": 35,
   "id": "c66d1319-4419-4e37-b525-448aa3ad4b97",
   "metadata": {},
   "outputs": [
    {
     "data": {
      "text/html": [
       "<table class=\"dataframe\">\n",
       "<caption>A matrix: 12 × 2 of type dbl</caption>\n",
       "<thead>\n",
       "\t<tr><th></th><th scope=col>GNAS knockout</th><th scope=col>WT</th></tr>\n",
       "</thead>\n",
       "<tbody>\n",
       "\t<tr><th scope=row>Sample1</th><td>0</td><td>1</td></tr>\n",
       "\t<tr><th scope=row>Sample2</th><td>0</td><td>1</td></tr>\n",
       "\t<tr><th scope=row>Sample3</th><td>0</td><td>1</td></tr>\n",
       "\t<tr><th scope=row>Sample4</th><td>0</td><td>1</td></tr>\n",
       "\t<tr><th scope=row>Sample5</th><td>1</td><td>0</td></tr>\n",
       "\t<tr><th scope=row>Sample6</th><td>1</td><td>0</td></tr>\n",
       "\t<tr><th scope=row>Sample7</th><td>1</td><td>0</td></tr>\n",
       "\t<tr><th scope=row>Sample8</th><td>1</td><td>0</td></tr>\n",
       "\t<tr><th scope=row>Sample9</th><td>1</td><td>0</td></tr>\n",
       "\t<tr><th scope=row>Sample10</th><td>1</td><td>0</td></tr>\n",
       "\t<tr><th scope=row>Sample11</th><td>1</td><td>0</td></tr>\n",
       "\t<tr><th scope=row>Sample12</th><td>1</td><td>0</td></tr>\n",
       "</tbody>\n",
       "</table>\n"
      ],
      "text/latex": [
       "A matrix: 12 × 2 of type dbl\n",
       "\\begin{tabular}{r|ll}\n",
       "  & GNAS knockout & WT\\\\\n",
       "\\hline\n",
       "\tSample1 & 0 & 1\\\\\n",
       "\tSample2 & 0 & 1\\\\\n",
       "\tSample3 & 0 & 1\\\\\n",
       "\tSample4 & 0 & 1\\\\\n",
       "\tSample5 & 1 & 0\\\\\n",
       "\tSample6 & 1 & 0\\\\\n",
       "\tSample7 & 1 & 0\\\\\n",
       "\tSample8 & 1 & 0\\\\\n",
       "\tSample9 & 1 & 0\\\\\n",
       "\tSample10 & 1 & 0\\\\\n",
       "\tSample11 & 1 & 0\\\\\n",
       "\tSample12 & 1 & 0\\\\\n",
       "\\end{tabular}\n"
      ],
      "text/markdown": [
       "\n",
       "A matrix: 12 × 2 of type dbl\n",
       "\n",
       "| <!--/--> | GNAS knockout | WT |\n",
       "|---|---|---|\n",
       "| Sample1 | 0 | 1 |\n",
       "| Sample2 | 0 | 1 |\n",
       "| Sample3 | 0 | 1 |\n",
       "| Sample4 | 0 | 1 |\n",
       "| Sample5 | 1 | 0 |\n",
       "| Sample6 | 1 | 0 |\n",
       "| Sample7 | 1 | 0 |\n",
       "| Sample8 | 1 | 0 |\n",
       "| Sample9 | 1 | 0 |\n",
       "| Sample10 | 1 | 0 |\n",
       "| Sample11 | 1 | 0 |\n",
       "| Sample12 | 1 | 0 |\n",
       "\n"
      ],
      "text/plain": [
       "         GNAS knockout WT\n",
       "Sample1  0             1 \n",
       "Sample2  0             1 \n",
       "Sample3  0             1 \n",
       "Sample4  0             1 \n",
       "Sample5  1             0 \n",
       "Sample6  1             0 \n",
       "Sample7  1             0 \n",
       "Sample8  1             0 \n",
       "Sample9  1             0 \n",
       "Sample10 1             0 \n",
       "Sample11 1             0 \n",
       "Sample12 1             0 "
      ]
     },
     "metadata": {},
     "output_type": "display_data"
    }
   ],
   "source": [
    "v <- voom(DGE.final,\n",
    "          design)\n",
    "vfit <- lmFit(v,\n",
    "              design)\n",
    "vfit <- contrasts.fit(vfit,\n",
    "                      con"
   ]
  },
  {
   "cell_type": "code",
   "execution_count": null,
   "id": "d16749cd-8c80-4a13-8d12-4f2436d6cc3d",
   "metadata": {},
   "outputs": [],
   "source": []
  }
 ],
 "metadata": {
  "kernelspec": {
   "display_name": "R",
   "language": "R",
   "name": "ir"
  },
  "language_info": {
   "codemirror_mode": "r",
   "file_extension": ".r",
   "mimetype": "text/x-r-source",
   "name": "R",
   "pygments_lexer": "r",
   "version": "4.2.2"
  }
 },
 "nbformat": 4,
 "nbformat_minor": 5
}
