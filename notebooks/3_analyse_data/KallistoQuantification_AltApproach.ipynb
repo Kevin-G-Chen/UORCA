{
 "cells": [
  {
   "cell_type": "markdown",
   "id": "7dbeb8f1-f53b-4d24-b9fe-daeebeba10c7",
   "metadata": {},
   "source": [
    "# Notebook description\n",
    "\n",
    "In the other notebook, I had a somewhat convoluted method of performing Kallisto quantification. In this notebook, I will attempt to make stronger use of structured outputs, and perhaps hard code the output file locations a little more.\n"
   ]
  }
 ],
 "metadata": {
  "kernelspec": {
   "display_name": "Python (Poetry)",
   "language": "python",
   "name": "poetry-env"
  },
  "language_info": {
   "codemirror_mode": {
    "name": "ipython",
    "version": 3
   },
   "file_extension": ".py",
   "mimetype": "text/x-python",
   "name": "python",
   "nbconvert_exporter": "python",
   "pygments_lexer": "ipython3",
   "version": "3.12.7"
  }
 },
 "nbformat": 4,
 "nbformat_minor": 5
}
