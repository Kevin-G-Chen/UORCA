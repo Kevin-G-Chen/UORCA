{
 "cells": [
  {
   "cell_type": "markdown",
   "id": "7dbeb8f1-f53b-4d24-b9fe-daeebeba10c7",
   "metadata": {},
   "source": [
    "# Notebook description\n",
    "\n",
    "In the other notebook, I had a somewhat convoluted method of performing Kallisto quantification. In this notebook, I will attempt to make stronger use of structured outputs, and perhaps hard code the output file locations a little more.\n"
   ]
  },
  {
   "cell_type": "code",
   "execution_count": 85,
   "id": "39162f28-10f7-45bc-b4e7-b7a08896711e",
   "metadata": {},
   "outputs": [],
   "source": [
    "from openai import OpenAI\n",
    "import openai # Probably don't need above... but this is for testing tools with structured outputs\n",
    "import os\n",
    "from tqdm import tqdm\n",
    "import time\n",
    "import numpy as np\n",
    "import pandas as pd\n",
    "from dotenv import load_dotenv\n",
    "from pydantic import BaseModel, Field\n",
    "from typing import List, Dict, Literal, Optional\n",
    "import subprocess\n",
    "import glob\n",
    "import asyncio\n",
    "import json"
   ]
  },
  {
   "cell_type": "code",
   "execution_count": 7,
   "id": "faf4d3f5-2325-44a4-a62e-752365978e5d",
   "metadata": {},
   "outputs": [],
   "source": [
    "# Import OpenAI API key\n",
    "\n",
    "load_dotenv('../../.env')\n",
    "\n",
    "Entrez.email = os.getenv('ENTREZ_EMAIL')\n",
    "Entrez.api_key = os.getenv('ENTREZ_API_KEY')\n",
    "openai_api_key = os.getenv('OPENAI_API_KEY')"
   ]
  },
  {
   "cell_type": "code",
   "execution_count": 8,
   "id": "cc21f253-1451-415e-98f0-ca7217dd6478",
   "metadata": {},
   "outputs": [
    {
     "name": "stdout",
     "output_type": "stream",
     "text": [
      "Hapless: unfortunate or unlucky, often in a way that provokes pity.\n"
     ]
    }
   ],
   "source": [
    "# Test the OpenAI API key is working\n",
    "\n",
    "client = OpenAI(\n",
    "  api_key=openai_api_key,  # this is also the default, it can be omitted\n",
    ")\n",
    "\n",
    "chat_completion = client.chat.completions.create(\n",
    "    messages=[\n",
    "        {\n",
    "            \"role\": \"user\",\n",
    "            \"content\": \"State a word that begins with the letter H, and define this word in less than one sentence\",\n",
    "        }\n",
    "    ],\n",
    "    model=\"gpt-4o-mini\",\n",
    ")\n",
    "\n",
    "result = chat_completion.choices[0].message.content\n",
    "print(result)"
   ]
  },
  {
   "cell_type": "markdown",
   "id": "f16744ca-8034-420e-a15b-1f930437c2a8",
   "metadata": {},
   "source": [
    "Ok not sure how you can define something in \"less than one sentence\" (flub on my part), but yes the test works."
   ]
  },
  {
   "cell_type": "markdown",
   "id": "b2752ba9-0b1e-41cc-b955-9a9144c35d5b",
   "metadata": {},
   "source": [
    "# Notebook overall objective\n",
    "\n",
    "The overall objective of this notebook is to develop an agent that can perform quantification of FASTQ files using Kallisto. \n",
    "\n",
    "In terms of the prompt that I will be giving it the documentation (I already know from prior experience that the knowledge cutoff is not accurate to the version of Kallisto I am currently using). I probably will want to specify the particular outputs that I want. So I think what I will want the LLM to do is to determine whether each parameter is appropriate or not."
   ]
  },
  {
   "cell_type": "markdown",
   "id": "9e973f61-40c5-4fe9-b493-6bb7f04658be",
   "metadata": {},
   "source": [
    "## Get documentation"
   ]
  },
  {
   "cell_type": "code",
   "execution_count": 9,
   "id": "5ec132d0-eee9-4ca5-ab07-7358d676fb06",
   "metadata": {},
   "outputs": [
    {
     "name": "stdout",
     "output_type": "stream",
     "text": [
      "Usage: kallisto quant [arguments] FASTQ-files\n",
      "\n",
      "Required arguments:\n",
      "-i, --index=STRING            Filename for the kallisto index to be used for\n",
      "                              quantification\n",
      "-o, --output-dir=STRING       Directory to write output to\n",
      "\n",
      "Optional arguments:\n",
      "-b, --bootstrap-samples=INT   Number of bootstrap samples (default: 0)\n",
      "    --seed=INT                Seed for the bootstrap sampling (default: 42)\n",
      "    --plaintext               Output plaintext instead of HDF5\n",
      "    --single                  Quantify single-end reads\n",
      "    --single-overhang         Include reads where unobserved rest of fragment is\n",
      "                              predicted to lie outside a transcript\n",
      "    --fr-stranded             Strand specific reads, first read forward\n",
      "    --rf-stranded             Strand specific reads, first read reverse\n",
      "-l, --fragment-length=DOUBLE  Estimated average fragment length\n",
      "-s, --sd=DOUBLE               Estimated standard deviation of fragment length\n",
      "                              (default: -l, -s values are estimated from paired\n",
      "                               end data, but are required when using --single)\n",
      "-p, --priors                  Priors for the EM algorithm, either as raw counts or as\n",
      "                              probabilities. Pseudocounts are added to raw reads to\n",
      "                              prevent zero valued priors. Supplied in the same order\n",
      "                              as the transcripts in the transcriptome\n",
      "-t, --threads=INT             Number of threads to use (default: 1)\n",
      "    --verbose                 Print out progress information every 1M proccessed reads\n",
      "\n"
     ]
    }
   ],
   "source": [
    "def get_documentation(command):\n",
    "    try:\n",
    "        # Execute the kallisto command\n",
    "        result = subprocess.run(command, shell=True, capture_output=True, text=True)\n",
    "        \n",
    "        # Capture the stdout\n",
    "        stdout = result.stdout\n",
    "        \n",
    "        # Return the results\n",
    "        return stdout\n",
    "    except Exception as e:\n",
    "        print(f\"An error occurred: {e}\")\n",
    "        return None\n",
    "\n",
    "docs = get_documentation(\"kallisto quant --help\")\n",
    "print(docs)"
   ]
  },
  {
   "cell_type": "markdown",
   "id": "9ac7f9b7-bc5c-4213-a530-8e62d0ce2225",
   "metadata": {},
   "source": [
    "## Prepare prompt/code to determine input files\n",
    "\n",
    "I believe the input files I will need are the FASTQ files themselves, as well as an index file.\n",
    "\n",
    "Ah, I need to download the index don't I? (done).\n",
    "\n",
    "Being able to locate the FASTQ files... this might get a bit messy (and will be a consideration when I "
   ]
  },
  {
   "cell_type": "code",
   "execution_count": 104,
   "id": "b3f409ee-3521-45ac-bfc6-33b0effd685b",
   "metadata": {},
   "outputs": [
    {
     "name": "stdout",
     "output_type": "stream",
     "text": [
      "['/home/myuser/work/data/kallisto_indices/mouse/index.idx', '/home/myuser/work/data/kallisto_indices/human/index.idx']\n"
     ]
    }
   ],
   "source": [
    "# Function to get files\n",
    "\n",
    "def get_files(directory, suffix):\n",
    "    \"\"\"\n",
    "    Recursively lists all files in a given directory and its subdirectories that end with the specified suffix,\n",
    "    returning their absolute paths.\n",
    "\n",
    "    Parameters:\n",
    "    directory (str): The path to the directory to search in.\n",
    "    suffix (str): The file suffix to look for (e.g., 'fastq.gz').\n",
    "\n",
    "    Returns:\n",
    "    list: A list of absolute file paths that match the given suffix.\n",
    "    \"\"\"\n",
    "    matched_files = []\n",
    "    \n",
    "    try:\n",
    "        # Walk through directory and subdirectories\n",
    "        for root, _, files in os.walk(directory):\n",
    "            for f in files:\n",
    "                if f.endswith(suffix):\n",
    "                    matched_files.append(os.path.join(root, f))\n",
    "                    \n",
    "        return matched_files\n",
    "    except FileNotFoundError:\n",
    "        print(f\"Directory '{directory}' not found.\")\n",
    "        return []\n",
    "    except Exception as e:\n",
    "        print(f\"An error occurred: {e}\")\n",
    "        return []\n",
    "\n",
    "# Example usage:\n",
    "directory = \"../2_extract_data/\" # this is something I will need to work out how to optimize\n",
    "suffix = \"fastq.gz\"\n",
    "fastq_files = get_files(directory, suffix) # just for my own sanity I didn't print the output, but I can see it was able to find all the files\n",
    "\n",
    "directory = \"/home/myuser/work/data/kallisto_indices/\"\n",
    "suffix = \".idx\"\n",
    "index_files = get_files(directory, suffix)\n",
    "print(index_files) # The vision I have for the moment is to have the LLM automatically select the correct index\n",
    "\n",
    "# This \"finding files\" might be something I encode as an agent which I call in different steps"
   ]
  },
  {
   "cell_type": "code",
   "execution_count": 34,
   "id": "f4c0ea29-d408-47c9-bfa6-b91800eb1dc3",
   "metadata": {},
   "outputs": [
    {
     "name": "stdout",
     "output_type": "stream",
     "text": [
      "Despite selective HDAC3 inhibition showing promise in a subset of lymphomas with CREBBP mutations, wild-type tumors generally exhibit resistance. Here, using unbiased genome-wide CRISPR screening, we identify GNAS knockout (KO) as a sensitizer of resistant lymphoma cells to HDAC3 inhibition. Mechanistically, GNAS KO-induced sensitization is independent of the canonical G-protein activities but unexpectedly mediated by viral mimicry-related interferon (IFN) responses, characterized by TBK1 and IRF3 activation, double-stranded RNA formation, and transposable element (TE) expression. GNAS KO additionally synergizes with HDAC3 inhibition to enhance CD8+ T cell-induced cytotoxicity. Moreover, we observe in human lymphoma patients that low GNAS expression is associated with high baseline TE expression and upregulated IFN signaling and shares common disrupted biological activities with GNAS KO in histone modification, mRNA processing, and transcriptional regulation. Collectively, our findings establish an unprecedented link between HDAC3 inhibition and viral mimicry in lymphoma. We suggest low GNAS expression as a potential biomarker that reflects viral mimicry priming for enhanced response to HDAC3 inhibition in the clinical treatment of lymphoma, especially the CREBBP wild-type cases.\n"
     ]
    }
   ],
   "source": [
    "Entrez.email = os.getenv('ENTREZ_EMAIL')\n",
    "Entrez.api_key = os.getenv('ENTREZ_API_KEY')\n",
    "\n",
    "def get_study_summary(accession):\n",
    "\n",
    "    # Define the command as a string\n",
    "    command = (\n",
    "        f'esearch -db gds -query \"{accession}[ACCN]\" | '\n",
    "        'efetch -format docsum | '\n",
    "        'xtract -pattern DocumentSummarySet -block DocumentSummary '\n",
    "        f'-if Accession -equals {accession} -element summary'\n",
    "    )\n",
    "\n",
    "    # Execute the command\n",
    "    result = subprocess.run(command, shell=True, stdout=subprocess.PIPE, stderr=subprocess.PIPE, text=True)\n",
    "\n",
    "    # Check if the command was successful\n",
    "    if result.returncode == 0:\n",
    "        # Return the output\n",
    "        return result.stdout.strip()\n",
    "    else:\n",
    "        # Raise an error with the stderr output\n",
    "        raise Exception(f\"Error: {result.stderr}\")\n",
    "\n",
    "# Example usage:\n",
    "study_summary = get_study_summary(\"GSE268034\")\n",
    "print(study_summary)"
   ]
  },
  {
   "cell_type": "code",
   "execution_count": 62,
   "id": "d020aabf-c782-421c-9cc5-ed4f4c189b4b",
   "metadata": {
    "jupyter": {
     "source_hidden": true
    },
    "scrolled": true
   },
   "outputs": [
    {
     "name": "stdout",
     "output_type": "stream",
     "text": [
      "API key detected.\n",
      "\n",
      "Processing SRA ID: SRR29101291\n",
      "Executing command: esearch -db sra -query SRR29101291 | efetch -format runinfo\n",
      "\n",
      "Processing SRA ID: SRR29101292\n",
      "Executing command: esearch -db sra -query SRR29101292 | efetch -format runinfo\n",
      "\n",
      "Processing SRA ID: SRR29101293\n",
      "Executing command: esearch -db sra -query SRR29101293 | efetch -format runinfo\n",
      "\n",
      "Processing SRA ID: SRR29101294\n",
      "Executing command: esearch -db sra -query SRR29101294 | efetch -format runinfo\n",
      "\n",
      "Processing SRA ID: SRR29101295\n",
      "Executing command: esearch -db sra -query SRR29101295 | efetch -format runinfo\n",
      "\n",
      "Processing SRA ID: SRR29101296\n",
      "Executing command: esearch -db sra -query SRR29101296 | efetch -format runinfo\n",
      "\n",
      "Processing SRA ID: SRR29101297\n",
      "Executing command: esearch -db sra -query SRR29101297 | efetch -format runinfo\n",
      "\n",
      "Processing SRA ID: SRR29101298\n",
      "Executing command: esearch -db sra -query SRR29101298 | efetch -format runinfo\n",
      "\n",
      "Processing SRA ID: SRR29101299\n",
      "Executing command: esearch -db sra -query SRR29101299 | efetch -format runinfo\n",
      "\n",
      "Processing SRA ID: SRR29101300\n",
      "Executing command: esearch -db sra -query SRR29101300 | efetch -format runinfo\n",
      "\n",
      "Processing SRA ID: SRR29101301\n",
      "Executing command: esearch -db sra -query SRR29101301 | efetch -format runinfo\n",
      "\n",
      "Processing SRA ID: SRR29101302\n",
      "Executing command: esearch -db sra -query SRR29101302 | efetch -format runinfo\n",
      "\n",
      "Data fetching complete.\n",
      "            Run          ReleaseDate             LoadDate     spots        bases  spots_with_mates  avgLength  size_MB                                      download_path   Experiment LibraryName LibraryStrategy LibrarySelection   LibrarySource LibraryLayout  InsertSize  InsertDev  Platform                  Model   SRAStudy    BioProject  Study_Pubmed_id  ProjectID       Sample     BioSample SampleType  TaxID ScientificName  SampleName Tumor                                         CenterName  Submission Consent                           RunHash                          ReadHash\n",
      "0   SRR29101291  2024-08-08 15:40:31  2024-05-21 17:38:38  56259966  11364513132          56259966        202     3402  https://sra-downloadb.be-md.ncbi.nlm.nih.gov/s...  SRX24625219  GSM8284513         RNA-Seq             cDNA  TRANSCRIPTOMIC        PAIRED           0          0  ILLUMINA  Illumina NovaSeq 6000  SRP508995  PRJNA1114078                3    1114078  SRS21362315  SAMN41479036     simple   9606   Homo sapiens  GSM8284513    no  PRINCESS MARGARET CANCER CENTRE – UNIVERSITY H...  SRA1873376  public  9BCE3171A6372DD02352EB3E0722FEF9  8EA96CEDBD89FCF9FA75B7FF8B3BBA28\n",
      "1   SRR29101292  2024-08-08 15:40:31  2024-05-21 17:33:12  58051186  11726339572          58051186        202     3505  https://sra-downloadb.be-md.ncbi.nlm.nih.gov/s...  SRX24625218  GSM8284512         RNA-Seq             cDNA  TRANSCRIPTOMIC        PAIRED           0          0  ILLUMINA  Illumina NovaSeq 6000  SRP508995  PRJNA1114078                3    1114078  SRS21362311  SAMN41479037     simple   9606   Homo sapiens  GSM8284512    no  PRINCESS MARGARET CANCER CENTRE – UNIVERSITY H...  SRA1873376  public  396BB9BAD6CF9A23193ADAF3776DEC24  307C4183966FC5591244C76F593485EB\n",
      "2   SRR29101293  2024-08-08 15:40:31  2024-05-21 17:32:43  66536242  13440320884          66536242        202     4032  https://sra-downloadb.be-md.ncbi.nlm.nih.gov/s...  SRX24625217  GSM8284511         RNA-Seq             cDNA  TRANSCRIPTOMIC        PAIRED           0          0  ILLUMINA  Illumina NovaSeq 6000  SRP508995  PRJNA1114078                3    1114078  SRS21362314  SAMN41479038     simple   9606   Homo sapiens  GSM8284511    no  PRINCESS MARGARET CANCER CENTRE – UNIVERSITY H...  SRA1873376  public  00D5697E0838EBD2BA34E53807EF1E9D  B2DC436B103252F46F3FC29018031EAD\n",
      "3   SRR29101294  2024-08-08 15:40:31  2024-05-21 17:32:52  76709879  15495395558          76709879        202     4637  https://sra-downloadb.be-md.ncbi.nlm.nih.gov/s...  SRX24625216  GSM8284510         RNA-Seq             cDNA  TRANSCRIPTOMIC        PAIRED           0          0  ILLUMINA  Illumina NovaSeq 6000  SRP508995  PRJNA1114078                3    1114078  SRS21362313  SAMN41479039     simple   9606   Homo sapiens  GSM8284510    no  PRINCESS MARGARET CANCER CENTRE – UNIVERSITY H...  SRA1873376  public  99FAFA87A09F956DF5BDE95D6166A4A9  44FA8A0346264FEA6670D51AF3BF96A8\n",
      "4   SRR29101295  2024-08-08 15:40:31  2024-05-21 17:33:24  66979880  13529935760          66979880        202     4078  https://sra-downloadb.be-md.ncbi.nlm.nih.gov/s...  SRX24625215  GSM8284509         RNA-Seq             cDNA  TRANSCRIPTOMIC        PAIRED           0          0  ILLUMINA  Illumina NovaSeq 6000  SRP508995  PRJNA1114078                3    1114078  SRS21362312  SAMN41479040     simple   9606   Homo sapiens  GSM8284509    no  PRINCESS MARGARET CANCER CENTRE – UNIVERSITY H...  SRA1873376  public  05975F14A7EF38942571CBA998035246  066A42C88AA8C234729836C5E94086F3\n",
      "5   SRR29101296  2024-08-08 15:40:31  2024-05-21 17:32:15  63768734  12881284268          63768734        202     3843  https://sra-downloadb.be-md.ncbi.nlm.nih.gov/s...  SRX24625214  GSM8284508         RNA-Seq             cDNA  TRANSCRIPTOMIC        PAIRED           0          0  ILLUMINA  Illumina NovaSeq 6000  SRP508995  PRJNA1114078                3    1114078  SRS21362309  SAMN41479041     simple   9606   Homo sapiens  GSM8284508    no  PRINCESS MARGARET CANCER CENTRE – UNIVERSITY H...  SRA1873376  public  32FFAF0836D68D9DDE7BD667F24D8232  C26CA161083B5DE93E44B7818C365604\n",
      "6   SRR29101297  2024-08-08 15:40:31  2024-05-21 17:34:30  55091365  11128455730          55091365        202     3331  https://sra-downloadb.be-md.ncbi.nlm.nih.gov/s...  SRX24625213  GSM8284507         RNA-Seq             cDNA  TRANSCRIPTOMIC        PAIRED           0          0  ILLUMINA  Illumina NovaSeq 6000  SRP508995  PRJNA1114078                3    1114078  SRS21362310  SAMN41479042     simple   9606   Homo sapiens  GSM8284507    no  PRINCESS MARGARET CANCER CENTRE – UNIVERSITY H...  SRA1873376  public  6365ACCD6A645E599742DAD85AC4DA75  138B9312C6BDA9264DDACC5A94DBF08D\n",
      "7   SRR29101298  2024-08-08 15:40:32  2024-05-21 17:35:30  64360007  13000721414          64360007        202     3979  https://sra-downloadb.be-md.ncbi.nlm.nih.gov/s...  SRX24625212  GSM8284506         RNA-Seq             cDNA  TRANSCRIPTOMIC        PAIRED           0          0  ILLUMINA  Illumina NovaSeq 6000  SRP508995  PRJNA1114078                3    1114078  SRS21362306  SAMN41479043     simple   9606   Homo sapiens  GSM8284506    no  PRINCESS MARGARET CANCER CENTRE – UNIVERSITY H...  SRA1873376  public  F920F3DD942BE6D844B80E5FDD742A9E  4207A7E9E18E7A84C4A9E5338A65F24D\n",
      "8   SRR29101299  2024-08-08 15:40:31  2024-05-21 17:31:15  55179809  11146321418          55179809        202     3359  https://sra-downloadb.be-md.ncbi.nlm.nih.gov/s...  SRX24625211  GSM8284505         RNA-Seq             cDNA  TRANSCRIPTOMIC        PAIRED           0          0  ILLUMINA  Illumina NovaSeq 6000  SRP508995  PRJNA1114078                3    1114078  SRS21362308  SAMN41479044     simple   9606   Homo sapiens  GSM8284505    no  PRINCESS MARGARET CANCER CENTRE – UNIVERSITY H...  SRA1873376  public  F742163C1CA0C78FE9210B0A9564317D  418F0C0A75D9C02882E9F47118D33F16\n",
      "9   SRR29101300  2024-08-08 15:40:31  2024-05-21 17:37:48  76574872  15468124144          76574872        202     4899  https://sra-downloadb.be-md.ncbi.nlm.nih.gov/s...  SRX24625210  GSM8284504         RNA-Seq             cDNA  TRANSCRIPTOMIC        PAIRED           0          0  ILLUMINA  Illumina NovaSeq 6000  SRP508995  PRJNA1114078                3    1114078  SRS21362304  SAMN41479045     simple   9606   Homo sapiens  GSM8284504    no  PRINCESS MARGARET CANCER CENTRE – UNIVERSITY H...  SRA1873376  public  F51168FC3D28A426753F4348A94C2F4F  F5C33878EDA127F33846987311FA3733\n",
      "10  SRR29101301  2024-08-08 15:40:31  2024-05-21 17:34:37  58667150  11850764300          58667150        202     3568  https://sra-downloadb.be-md.ncbi.nlm.nih.gov/s...  SRX24625209  GSM8284503         RNA-Seq             cDNA  TRANSCRIPTOMIC        PAIRED           0          0  ILLUMINA  Illumina NovaSeq 6000  SRP508995  PRJNA1114078                3    1114078  SRS21362305  SAMN41479046     simple   9606   Homo sapiens  GSM8284503    no  PRINCESS MARGARET CANCER CENTRE – UNIVERSITY H...  SRA1873376  public  91315A7CDC6E410D44A204057F70F734  64D5390E5F551FA4FBF7C2478A9046C7\n",
      "11  SRR29101302  2024-08-08 15:40:31  2024-05-21 17:33:45  69904008  14120609616          69904008        202     4339  https://sra-downloadb.be-md.ncbi.nlm.nih.gov/s...  SRX24625208  GSM8284502         RNA-Seq             cDNA  TRANSCRIPTOMIC        PAIRED           0          0  ILLUMINA  Illumina NovaSeq 6000  SRP508995  PRJNA1114078                3    1114078  SRS21362307  SAMN41479047     simple   9606   Homo sapiens  GSM8284502    no  PRINCESS MARGARET CANCER CENTRE – UNIVERSITY H...  SRA1873376  public  EB0E709EFB83139A5859E52CBB8CB8B6  6E2379FFDEE693210C0C730DD35BB1CD\n"
     ]
    }
   ],
   "source": [
    "import time\n",
    "import subprocess\n",
    "import os\n",
    "import pandas as pd\n",
    "from io import StringIO\n",
    "from Bio import Entrez\n",
    "\n",
    "# Path to the file containing SRA IDs (one per line)\n",
    "sra_ids_file = \"sra_ids.txt\"\n",
    "\n",
    "# Set NCBI API key from environment variable\n",
    "Entrez.api_key = os.getenv('ENTREZ_API_KEY')\n",
    "if Entrez.api_key:\n",
    "    print(\"API key detected.\")\n",
    "else:\n",
    "    print(\"No API key detected; proceeding without it.\")\n",
    "\n",
    "# Delay (in seconds) between requests to respect rate limits\n",
    "delay = 0.5 if not Entrez.api_key else 0.1\n",
    "\n",
    "# List to store each SRA ID's fetched data as a dictionary\n",
    "data = []\n",
    "\n",
    "# Read the SRA IDs from the file\n",
    "with open(sra_ids_file, 'r') as ids_file:\n",
    "    for line in ids_file:\n",
    "        sra_id = line.strip()\n",
    "        if not sra_id:\n",
    "            continue  # Skip empty lines\n",
    "\n",
    "        print(f\"\\nProcessing SRA ID: {sra_id}\")\n",
    "\n",
    "        # Construct the full command as a single shell command\n",
    "        command = f\"esearch -db sra -query {sra_id} | efetch -format runinfo\"\n",
    "\n",
    "        # Add API key if provided\n",
    "        if Entrez.api_key:\n",
    "            command = f\"esearch -db sra -query {sra_id} | efetch -format runinfo\"\n",
    "\n",
    "        # Print the command being attempted for debugging\n",
    "        print(f\"Executing command: {command}\")\n",
    "\n",
    "        try:\n",
    "            # Execute the combined command as a single shell pipeline\n",
    "            result = subprocess.run(\n",
    "                command, shell=True, capture_output=True, text=True, check=True\n",
    "            )\n",
    "\n",
    "            # Convert the result to a DataFrame and append it to the list\n",
    "            csv_data = StringIO(result.stdout)\n",
    "            df = pd.read_csv(csv_data)\n",
    "            data.append(df)\n",
    "\n",
    "        except subprocess.CalledProcessError as e:\n",
    "            print(f\"Error processing {sra_id}: {e}\")\n",
    "            print(f\"Command output: {e.output}\")\n",
    "            continue  # Skip to the next SRA ID if there’s an error\n",
    "\n",
    "        # Respect API rate limits\n",
    "        time.sleep(delay)\n",
    "\n",
    "# Combine all DataFrames into one\n",
    "if data:\n",
    "    combined_df = pd.concat(data, ignore_index=True)\n",
    "    \n",
    "    # Remove columns where all entries are NaN\n",
    "    combined_df.dropna(axis=1, how='all', inplace=True)\n",
    "\n",
    "    # Display the resulting DataFrame\n",
    "    print(\"\\nData fetching complete.\")\n",
    "    print(combined_df)\n",
    "else:\n",
    "    print(\"No data was fetched.\")"
   ]
  },
  {
   "cell_type": "markdown",
   "id": "c04b23d0-3419-420f-b8ee-9990fafde876",
   "metadata": {},
   "source": [
    "## Prepare Kallisto quantification\n",
    "\n",
    "I think the above should give me enough information to get accurately determine the quantification parameters. \n",
    "\n",
    "On the topic of validation - the best I have for the moment is to identify a diverse set of 5 (?) studies to hold out as a validation dataset... (ChatGPT is not helping me here)\n",
    "\n",
    "My plan will be - give it documentation, give it dataset metadata, give it the sample metadata, and give it the location of the FASTQ files. Also the location of (all?) indices. "
   ]
  },
  {
   "cell_type": "code",
   "execution_count": 65,
   "id": "ed3b1fb4-c43c-4115-bfb8-23185bd40420",
   "metadata": {},
   "outputs": [],
   "source": [
    "# I can access the sample metadata extracted above via...\n",
    "\n",
    "# combined_df\n",
    "\n",
    "# Just not going to show the output since it's a bit chunky"
   ]
  },
  {
   "cell_type": "code",
   "execution_count": 74,
   "id": "e9bbe8d6-5cca-440b-af26-6474ed4f1cfb",
   "metadata": {},
   "outputs": [
    {
     "name": "stdout",
     "output_type": "stream",
     "text": [
      "Usage: kallisto quant [arguments] FASTQ-files\n",
      "\n",
      "Required arguments:\n",
      "-i, --index=STRING            Filename for the kallisto index to be used for\n",
      "                              quantification\n",
      "-o, --output-dir=STRING       Directory to write output to\n",
      "\n",
      "Optional arguments:\n",
      "-b, --bootstrap-samples=INT   Number of bootstrap samples (default: 0)\n",
      "    --seed=INT                Seed for the bootstrap sampling (default: 42)\n",
      "    --plaintext               Output plaintext instead of HDF5\n",
      "    --single                  Quantify single-end reads\n",
      "    --single-overhang         Include reads where unobserved rest of fragment is\n",
      "                              predicted to lie outside a transcript\n",
      "    --fr-stranded             Strand specific reads, first read forward\n",
      "    --rf-stranded             Strand specific reads, first read reverse\n",
      "-l, --fragment-length=DOUBLE  Estimated average fragment length\n",
      "-s, --sd=DOUBLE               Estimated standard deviation of fragment length\n",
      "                              (default: -l, -s values are estimated from paired\n",
      "                               end data, but are required when using --single)\n",
      "-p, --priors                  Priors for the EM algorithm, either as raw counts or as\n",
      "                              probabilities. Pseudocounts are added to raw reads to\n",
      "                              prevent zero valued priors. Supplied in the same order\n",
      "                              as the transcripts in the transcriptome\n",
      "-t, --threads=INT             Number of threads to use (default: 1)\n",
      "    --verbose                 Print out progress information every 1M proccessed reads\n",
      "\n"
     ]
    }
   ],
   "source": [
    "print(docs)"
   ]
  },
  {
   "cell_type": "code",
   "execution_count": 111,
   "id": "44897cd2-9bcc-4984-b202-8f414c6413a8",
   "metadata": {},
   "outputs": [],
   "source": [
    "class KallistoCommand(BaseModel):\n",
    "    index: str = Field(..., description=\"Filename for the Kallisto index to be used for quantification\")\n",
    "    fastq1: str = Field(..., description=\"Filename for the first FASTQ file (Read 1) to be quantified\")\n",
    "    fastq2: Optional[str] = Field(description=\"Filename for the second FASTQ file (Read 2) to be quantified (optional for single-end reads)\")\n",
    "    output: str = Field(..., description=\"Directory to write output to\")\n",
    "    bootstraps: int = Field(..., description=\"Number of bootstrap samples\")\n",
    "    single: bool = Field(..., description=\"If the reads are single-end\")\n",
    "    fr_stranded: bool = Field(..., description=\"If the reads are strand-specific, with first read forward\")\n",
    "    rf_stranded: bool = Field(..., description=\"If the reads are strand-specific, with first read reverse\")\n",
    "    frag_length: Optional[int] = Field(description=\"Estimated average fragment length (required for single-end reads)\")\n",
    "    sd: Optional[int] = Field(description=\"Estimated standard deviation of fragment length (required for single-end reads)\")\n",
    "    justification: str = Field(..., description=\"Justification for each chosen parameter, including if the parameter was excluded\")\n",
    "\n",
    "class KallistoCommands(BaseModel):\n",
    "    commands: List[KallistoCommand] = Field(description=\"List of Kallisto quantification commands for each sample\")\n",
    "\n",
    "def identify_kallisto_params():\n",
    "    prompt = f\"\"\"\n",
    "\n",
    "## IDENTITY AND PURPOSE\n",
    "\n",
    "You are an expert in bioinformatic analyses. You will be provided with various pieces of information, and use this information to determine the appropriate parameters for a Kallisto analysis.\n",
    "\n",
    "## STEPS\n",
    "\n",
    "1. Carefully digest the contents of the provided Kallisto documentation. Note that any existing knowledge you have of Kallisto may not be correct, so follow the documentation closely.\n",
    "2. Carefully consider the contents of the sample metadata. Not all information will be relevant, however there will be content that will be needed.\n",
    "3. Carefully look through the dataset metadata. This may contain details that are useful.\n",
    "4. After considering all of the above, determine which Kallisto parameters should be set. Do not make any assumptions that are not explicitly stated for any optional fields. \n",
    "5. In determining parameters, make sure you only choose valid files (i.e. pick out of the options which are provided)\n",
    "6. Ensure that the chosen parameters allow for a robust analysis that would satisfy the most critical peer reviewers.\n",
    "7. You should prioritize scientific robustness over ease of computational burden.\n",
    "8. Note the following guidelines for some specific parameters:\n",
    "- the output directory should be named such that the sample being quantified can be identified from this output directory.\n",
    "\n",
    "## OUTPUT\n",
    "\n",
    "Your output should consist of each parameter, and either:\n",
    "- the value to be included for the parameter\n",
    "- if the parameter should not be included, you should state NA\n",
    "- For ALL chosen parameters, describe the justification for including the particular value, or excluding it.\n",
    "\n",
    "This should be applied to all parameters identified as per the provided Kallisto documentation.\n",
    "\n",
    "## INPUT\n",
    "\n",
    "Kallisto documentation: {docs}\n",
    "\n",
    "Dataset summary: {study_summary}\n",
    "\n",
    "FASTQ files: {fastq_files}\n",
    "\n",
    "Possible Kallisto indices: {index_files}\n",
    "\n",
    "Sample metadata: {combined_df.to_string}\n",
    "\n",
    "\"\"\"\n",
    "    chat_completion = client.beta.chat.completions.parse(\n",
    "        messages=[\n",
    "            {\n",
    "                \"role\": \"user\",\n",
    "                \"content\": prompt,\n",
    "            }\n",
    "        ],\n",
    "        model=\"gpt-4o-mini\",\n",
    "        response_format = KallistoCommands\n",
    "        )\n",
    "    result = chat_completion.choices[0].message.parsed\n",
    "    print(f\"Generated tokens: \", chat_completion.usage.completion_tokens)\n",
    "    print(f\"Prompt tokens: \", chat_completion.usage.prompt_tokens)\n",
    "    print(f\"Total tokens: \", chat_completion.usage.total_tokens)\n",
    "    return(result)"
   ]
  },
  {
   "cell_type": "code",
   "execution_count": 112,
   "id": "36692c29-9d9a-4f07-86c8-7da52268e8f1",
   "metadata": {},
   "outputs": [
    {
     "name": "stdout",
     "output_type": "stream",
     "text": [
      "Generated tokens:  1588\n",
      "Prompt tokens:  4804\n",
      "Total tokens:  6392\n"
     ]
    }
   ],
   "source": [
    "kallisto_commands = identify_kallisto_params()\n",
    "\n",
    "for cmd in kallisto_commands.commands:\n",
    "    # Construct the Kallisto command string\n",
    "    kallisto_cmd = f\"kallisto quant -i {cmd.index} -o {cmd.output} -t 4\"\n",
    "    \n",
    "    if cmd.bootstraps > 0:\n",
    "        kallisto_cmd += f\" --bootstrap-samples={cmd.bootstraps}\"\n",
    "    \n",
    "    if cmd.single:\n",
    "        kallisto_cmd += \" --single\"\n",
    "        if cmd.frag_length:\n",
    "            kallisto_cmd += f\" -l {cmd.frag_length}\"\n",
    "        if cmd.sd:\n",
    "            kallisto_cmd += f\" -s {cmd.sd}\"\n",
    "    else:\n",
    "        # Paired-end\n",
    "        if cmd.fr_stranded:\n",
    "            kallisto_cmd += \" --fr-stranded\"\n",
    "        elif cmd.rf_stranded:\n",
    "            kallisto_cmd += \" --rf-stranded\"\n",
    "    \n",
    "    # Append FASTQ files\n",
    "    kallisto_cmd += f\" {cmd.fastq1} {cmd.fastq2}\""
   ]
  },
  {
   "cell_type": "code",
   "execution_count": 115,
   "id": "6f6643a3-9150-4b4f-914f-d86372c2a636",
   "metadata": {},
   "outputs": [],
   "source": [
    "def execute_kallisto_commands(kallisto_commands: KallistoCommands):\n",
    "    for cmd in kallisto_commands.commands:\n",
    "        # Construct the Kallisto command string\n",
    "        kallisto_cmd = f\"kallisto quant -i {cmd.index} -o {cmd.output} -t 4 --plaintext\"\n",
    "        \n",
    "        if cmd.bootstraps > 0:\n",
    "            kallisto_cmd += f\" --bootstrap-samples={cmd.bootstraps}\"\n",
    "        \n",
    "        if cmd.single:\n",
    "            kallisto_cmd += \" --single\"\n",
    "            if cmd.frag_length:\n",
    "                kallisto_cmd += f\" -l {cmd.frag_length}\"\n",
    "            if cmd.sd:\n",
    "                kallisto_cmd += f\" -s {cmd.sd}\"\n",
    "        else:\n",
    "            # Paired-end\n",
    "            if cmd.fr_stranded:\n",
    "                kallisto_cmd += \" --fr-stranded\"\n",
    "            elif cmd.rf_stranded:\n",
    "                kallisto_cmd += \" --rf-stranded\"\n",
    "        \n",
    "        # Append FASTQ files\n",
    "        if cmd.fastq2 and cmd.fastq2.lower() != 'na':\n",
    "            kallisto_cmd += f\" {cmd.fastq1} {cmd.fastq2}\"\n",
    "        else:\n",
    "            kallisto_cmd += f\" {cmd.fastq1}\"\n",
    "        \n",
    "        print(f\"Executing Kallisto command for {cmd.fastq1}:\")\n",
    "        print(kallisto_cmd)\n",
    "\n",
    "        # Execute the command\n",
    "        try:\n",
    "            subprocess.run(kallisto_cmd, shell=True, check=True)\n",
    "            print(f\"Kallisto quantification completed for {cmd.fastq1}\\n\")\n",
    "        except subprocess.CalledProcessError as e:\n",
    "            print(f\"Error executing Kallisto for {cmd.fastq1}: {e}\\n\")\n",
    "        \n",
    "        # Optionally, log the justification\n",
    "        justification_path = os.path.join(cmd.output, \"justification.txt\")\n",
    "        os.makedirs(cmd.output, exist_ok=True)\n",
    "        with open(justification_path, \"w\") as f:\n",
    "            f.write(cmd.justification)\n",
    "        print(f\"Justification saved to {justification_path}\\n\")"
   ]
  },
  {
   "cell_type": "code",
   "execution_count": 116,
   "id": "5722ccc7-ea11-43d6-a4c1-ede1677d80e2",
   "metadata": {},
   "outputs": [
    {
     "name": "stdout",
     "output_type": "stream",
     "text": [
      "Generated tokens:  1566\n",
      "Prompt tokens:  4804\n",
      "Total tokens:  6370\n",
      "Executing Kallisto command for ../2_extract_data/GSE268034_data/SRR29101291_1.fastq.gz:\n",
      "kallisto quant -i /home/myuser/work/data/kallisto_indices/human/index.idx -o output/SRR29101291 -t 4 --plaintext --bootstrap-samples=100 ../2_extract_data/GSE268034_data/SRR29101291_1.fastq.gz ../2_extract_data/GSE268034_data/SRR29101291_2.fastq.gz\n",
      "Usage: kallisto quant [arguments] FASTQ-files\n",
      "\n",
      "Required arguments:\n",
      "-i, --index=STRING            Filename for the kallisto index to be used for\n",
      "                              quantification\n",
      "-o, --output-dir=STRING       Directory to write output to\n",
      "\n",
      "Optional arguments:\n",
      "-b, --bootstrap-samples=INT   Number of bootstrap samples (default: 0)\n",
      "    --seed=INT                Seed for the bootstrap sampling (default: 42)\n",
      "    --plaintext               Output plaintext instead of HDF5\n",
      "    --single                  Quantify single-end reads\n",
      "    --single-overhang         Include reads where unobserved rest of fragment is\n",
      "                              predicted to lie outside a transcript\n",
      "    --fr-stranded             Strand specific reads, first read forward\n",
      "    --rf-stranded             Strand specific reads, first read reverse\n",
      "-l, --fragment-length=DOUBLE  Estimated average fragment length\n",
      "-s, --sd=DOUBLE               Estimated standard deviation of fragment length\n",
      "                              (default: -l, -s values are estimated from paired\n",
      "                               end data, but are required when using --single)\n",
      "-p, --priors                  Priors for the EM algorithm, either as raw counts or as\n",
      "                              probabilities. Pseudocounts are added to raw reads to\n",
      "                              prevent zero valued priors. Supplied in the same order\n",
      "                              as the transcripts in the transcriptome\n",
      "-t, --threads=INT             Number of threads to use (default: 1)\n",
      "    --verbose                 Print out progress information every 1M proccessed reads\n",
      "Error executing Kallisto for ../2_extract_data/GSE268034_data/SRR29101291_1.fastq.gz: Command 'kallisto quant -i /home/myuser/work/data/kallisto_indices/human/index.idx -o output/SRR29101291 -t 4 --plaintext --bootstrap-samples=100 ../2_extract_data/GSE268034_data/SRR29101291_1.fastq.gz ../2_extract_data/GSE268034_data/SRR29101291_2.fastq.gz' returned non-zero exit status 1.\n",
      "\n",
      "Justification saved to output/SRR29101291/justification.txt\n",
      "\n",
      "Executing Kallisto command for ../2_extract_data/GSE268034_data/SRR29101292_1.fastq.gz:\n",
      "kallisto quant -i /home/myuser/work/data/kallisto_indices/human/index.idx -o output/SRR29101292 -t 4 --plaintext --bootstrap-samples=100 ../2_extract_data/GSE268034_data/SRR29101292_1.fastq.gz ../2_extract_data/GSE268034_data/SRR29101292_2.fastq.gz\n"
     ]
    },
    {
     "name": "stderr",
     "output_type": "stream",
     "text": [
      "\n",
      "[quant] fragment length distribution will be estimated from the data\n",
      "Error: could not create directory output/SRR29101291\n",
      "\n",
      "\n",
      "[quant] fragment length distribution will be estimated from the data\n",
      "[index] k-mer length: 31\n",
      "[index] number of targets: 227,665\n",
      "[index] number of k-mers: 139,900,295\n",
      "[index] number of D-list k-mers: 5,477,475\n",
      "[quant] running in paired-end mode\n",
      "[quant] will process pair 1: ../2_extract_data/GSE268034_data/SRR29101292_1.fastq.gz\n",
      "                             ../2_extract_data/GSE268034_data/SRR29101292_2.fastq.gz\n",
      "[quant] finding pseudoalignments for the reads ... done\n",
      "[quant] processed 80,000 reads, 30,242 reads pseudoaligned\n",
      "[quant] estimated average fragment length: 200.645\n",
      "[   em] quantifying the abundances ... done\n",
      "[   em] the Expectation-Maximization algorithm ran for 669 rounds\n",
      "\n",
      "\n"
     ]
    },
    {
     "name": "stdout",
     "output_type": "stream",
     "text": [
      "Kallisto quantification completed for ../2_extract_data/GSE268034_data/SRR29101292_1.fastq.gz\n",
      "\n",
      "Justification saved to output/SRR29101292/justification.txt\n",
      "\n",
      "Executing Kallisto command for ../2_extract_data/GSE268034_data/SRR29101293_1.fastq.gz:\n",
      "kallisto quant -i /home/myuser/work/data/kallisto_indices/human/index.idx -o output/SRR29101293 -t 4 --plaintext --bootstrap-samples=100 ../2_extract_data/GSE268034_data/SRR29101293_1.fastq.gz ../2_extract_data/GSE268034_data/SRR29101293_2.fastq.gz\n"
     ]
    },
    {
     "name": "stderr",
     "output_type": "stream",
     "text": [
      "\n",
      "[quant] fragment length distribution will be estimated from the data\n",
      "[index] k-mer length: 31\n",
      "[index] number of targets: 227,665\n",
      "[index] number of k-mers: 139,900,295\n",
      "[index] number of D-list k-mers: 5,477,475\n",
      "[quant] running in paired-end mode\n",
      "[quant] will process pair 1: ../2_extract_data/GSE268034_data/SRR29101293_1.fastq.gz\n",
      "                             ../2_extract_data/GSE268034_data/SRR29101293_2.fastq.gz\n",
      "[quant] finding pseudoalignments for the reads ... done\n",
      "[quant] processed 80,000 reads, 32,224 reads pseudoaligned\n",
      "[quant] estimated average fragment length: 201.753\n",
      "[   em] quantifying the abundances ... done\n",
      "[   em] the Expectation-Maximization algorithm ran for 724 rounds\n",
      "\n",
      "\n"
     ]
    },
    {
     "name": "stdout",
     "output_type": "stream",
     "text": [
      "Kallisto quantification completed for ../2_extract_data/GSE268034_data/SRR29101293_1.fastq.gz\n",
      "\n",
      "Justification saved to output/SRR29101293/justification.txt\n",
      "\n",
      "Executing Kallisto command for ../2_extract_data/GSE268034_data/SRR29101294_1.fastq.gz:\n",
      "kallisto quant -i /home/myuser/work/data/kallisto_indices/human/index.idx -o output/SRR29101294 -t 4 --plaintext --bootstrap-samples=100 ../2_extract_data/GSE268034_data/SRR29101294_1.fastq.gz ../2_extract_data/GSE268034_data/SRR29101294_2.fastq.gz\n"
     ]
    },
    {
     "name": "stderr",
     "output_type": "stream",
     "text": [
      "\n",
      "[quant] fragment length distribution will be estimated from the data\n",
      "[index] k-mer length: 31\n",
      "[index] number of targets: 227,665\n",
      "[index] number of k-mers: 139,900,295\n",
      "[index] number of D-list k-mers: 5,477,475\n",
      "[quant] running in paired-end mode\n",
      "[quant] will process pair 1: ../2_extract_data/GSE268034_data/SRR29101294_1.fastq.gz\n",
      "                             ../2_extract_data/GSE268034_data/SRR29101294_2.fastq.gz\n",
      "[quant] finding pseudoalignments for the reads ... done\n",
      "[quant] processed 80,000 reads, 30,720 reads pseudoaligned\n",
      "[quant] estimated average fragment length: 212.242\n",
      "[   em] quantifying the abundances ... done\n",
      "[   em] the Expectation-Maximization algorithm ran for 675 rounds\n",
      "\n",
      "\n"
     ]
    },
    {
     "name": "stdout",
     "output_type": "stream",
     "text": [
      "Kallisto quantification completed for ../2_extract_data/GSE268034_data/SRR29101294_1.fastq.gz\n",
      "\n",
      "Justification saved to output/SRR29101294/justification.txt\n",
      "\n",
      "Executing Kallisto command for ../2_extract_data/GSE268034_data/SRR29101295_1.fastq.gz:\n",
      "kallisto quant -i /home/myuser/work/data/kallisto_indices/human/index.idx -o output/SRR29101295 -t 4 --plaintext --bootstrap-samples=100 ../2_extract_data/GSE268034_data/SRR29101295_1.fastq.gz ../2_extract_data/GSE268034_data/SRR29101295_2.fastq.gz\n"
     ]
    },
    {
     "name": "stderr",
     "output_type": "stream",
     "text": [
      "\n",
      "[quant] fragment length distribution will be estimated from the data\n",
      "[index] k-mer length: 31\n",
      "[index] number of targets: 227,665\n",
      "[index] number of k-mers: 139,900,295\n",
      "[index] number of D-list k-mers: 5,477,475\n",
      "[quant] running in paired-end mode\n",
      "[quant] will process pair 1: ../2_extract_data/GSE268034_data/SRR29101295_1.fastq.gz\n",
      "                             ../2_extract_data/GSE268034_data/SRR29101295_2.fastq.gz\n",
      "[quant] finding pseudoalignments for the reads ... done\n",
      "[quant] processed 80,000 reads, 29,669 reads pseudoaligned\n",
      "[quant] estimated average fragment length: 203.446\n",
      "[   em] quantifying the abundances ... done\n",
      "[   em] the Expectation-Maximization algorithm ran for 711 rounds\n",
      "\n",
      "\n"
     ]
    },
    {
     "name": "stdout",
     "output_type": "stream",
     "text": [
      "Kallisto quantification completed for ../2_extract_data/GSE268034_data/SRR29101295_1.fastq.gz\n",
      "\n",
      "Justification saved to output/SRR29101295/justification.txt\n",
      "\n",
      "Executing Kallisto command for ../2_extract_data/GSE268034_data/SRR29101296_1.fastq.gz:\n",
      "kallisto quant -i /home/myuser/work/data/kallisto_indices/human/index.idx -o output/SRR29101296 -t 4 --plaintext --bootstrap-samples=100 ../2_extract_data/GSE268034_data/SRR29101296_1.fastq.gz ../2_extract_data/GSE268034_data/SRR29101296_2.fastq.gz\n"
     ]
    },
    {
     "name": "stderr",
     "output_type": "stream",
     "text": [
      "\n",
      "[quant] fragment length distribution will be estimated from the data\n",
      "[index] k-mer length: 31\n",
      "[index] number of targets: 227,665\n",
      "[index] number of k-mers: 139,900,295\n",
      "[index] number of D-list k-mers: 5,477,475\n",
      "[quant] running in paired-end mode\n",
      "[quant] will process pair 1: ../2_extract_data/GSE268034_data/SRR29101296_1.fastq.gz\n",
      "                             ../2_extract_data/GSE268034_data/SRR29101296_2.fastq.gz\n",
      "[quant] finding pseudoalignments for the reads ... done\n",
      "[quant] processed 80,000 reads, 31,540 reads pseudoaligned\n",
      "[quant] estimated average fragment length: 214.288\n",
      "[   em] quantifying the abundances ... done\n",
      "[   em] the Expectation-Maximization algorithm ran for 683 rounds\n",
      "\n",
      "\n"
     ]
    },
    {
     "name": "stdout",
     "output_type": "stream",
     "text": [
      "Kallisto quantification completed for ../2_extract_data/GSE268034_data/SRR29101296_1.fastq.gz\n",
      "\n",
      "Justification saved to output/SRR29101296/justification.txt\n",
      "\n",
      "Executing Kallisto command for ../2_extract_data/GSE268034_data/SRR29101297_1.fastq.gz:\n",
      "kallisto quant -i /home/myuser/work/data/kallisto_indices/human/index.idx -o output/SRR29101297 -t 4 --plaintext --bootstrap-samples=100 ../2_extract_data/GSE268034_data/SRR29101297_1.fastq.gz ../2_extract_data/GSE268034_data/SRR29101297_2.fastq.gz\n"
     ]
    },
    {
     "name": "stderr",
     "output_type": "stream",
     "text": [
      "\n",
      "[quant] fragment length distribution will be estimated from the data\n",
      "[index] k-mer length: 31\n",
      "[index] number of targets: 227,665\n",
      "[index] number of k-mers: 139,900,295\n",
      "[index] number of D-list k-mers: 5,477,475\n",
      "[quant] running in paired-end mode\n",
      "[quant] will process pair 1: ../2_extract_data/GSE268034_data/SRR29101297_1.fastq.gz\n",
      "                             ../2_extract_data/GSE268034_data/SRR29101297_2.fastq.gz\n",
      "[quant] finding pseudoalignments for the reads ... done\n",
      "[quant] processed 80,000 reads, 33,865 reads pseudoaligned\n",
      "[quant] estimated average fragment length: 212.372\n",
      "[   em] quantifying the abundances ... done\n",
      "[   em] the Expectation-Maximization algorithm ran for 675 rounds\n",
      "\n",
      "\n"
     ]
    },
    {
     "name": "stdout",
     "output_type": "stream",
     "text": [
      "Kallisto quantification completed for ../2_extract_data/GSE268034_data/SRR29101297_1.fastq.gz\n",
      "\n",
      "Justification saved to output/SRR29101297/justification.txt\n",
      "\n",
      "Executing Kallisto command for ../2_extract_data/GSE268034_data/SRR29101298_1.fastq.gz:\n",
      "kallisto quant -i /home/myuser/work/data/kallisto_indices/human/index.idx -o output/SRR29101298 -t 4 --plaintext --bootstrap-samples=100 ../2_extract_data/GSE268034_data/SRR29101298_1.fastq.gz ../2_extract_data/GSE268034_data/SRR29101298_2.fastq.gz\n"
     ]
    },
    {
     "name": "stderr",
     "output_type": "stream",
     "text": [
      "\n",
      "[quant] fragment length distribution will be estimated from the data\n",
      "[index] k-mer length: 31\n",
      "[index] number of targets: 227,665\n",
      "[index] number of k-mers: 139,900,295\n",
      "[index] number of D-list k-mers: 5,477,475\n",
      "[quant] running in paired-end mode\n",
      "[quant] will process pair 1: ../2_extract_data/GSE268034_data/SRR29101298_1.fastq.gz\n",
      "                             ../2_extract_data/GSE268034_data/SRR29101298_2.fastq.gz\n",
      "[quant] finding pseudoalignments for the reads ... done\n",
      "[quant] processed 80,000 reads, 34,001 reads pseudoaligned\n",
      "[quant] estimated average fragment length: 210.536\n",
      "[   em] quantifying the abundances ... done\n",
      "[   em] the Expectation-Maximization algorithm ran for 692 rounds\n",
      "\n",
      "\n"
     ]
    },
    {
     "name": "stdout",
     "output_type": "stream",
     "text": [
      "Kallisto quantification completed for ../2_extract_data/GSE268034_data/SRR29101298_1.fastq.gz\n",
      "\n",
      "Justification saved to output/SRR29101298/justification.txt\n",
      "\n",
      "Executing Kallisto command for ../2_extract_data/GSE268034_data/SRR29101299_1.fastq.gz:\n",
      "kallisto quant -i /home/myuser/work/data/kallisto_indices/human/index.idx -o output/SRR29101299 -t 4 --plaintext --bootstrap-samples=100 ../2_extract_data/GSE268034_data/SRR29101299_1.fastq.gz ../2_extract_data/GSE268034_data/SRR29101299_2.fastq.gz\n"
     ]
    },
    {
     "name": "stderr",
     "output_type": "stream",
     "text": [
      "\n",
      "[quant] fragment length distribution will be estimated from the data\n",
      "[index] k-mer length: 31\n",
      "[index] number of targets: 227,665\n",
      "[index] number of k-mers: 139,900,295\n",
      "[index] number of D-list k-mers: 5,477,475\n",
      "[quant] running in paired-end mode\n",
      "[quant] will process pair 1: ../2_extract_data/GSE268034_data/SRR29101299_1.fastq.gz\n",
      "                             ../2_extract_data/GSE268034_data/SRR29101299_2.fastq.gz\n",
      "[quant] finding pseudoalignments for the reads ... done\n",
      "[quant] processed 80,000 reads, 36,915 reads pseudoaligned\n",
      "[quant] estimated average fragment length: 204.182\n",
      "[   em] quantifying the abundances ... done\n",
      "[   em] the Expectation-Maximization algorithm ran for 810 rounds\n",
      "\n",
      "\n"
     ]
    },
    {
     "name": "stdout",
     "output_type": "stream",
     "text": [
      "Kallisto quantification completed for ../2_extract_data/GSE268034_data/SRR29101299_1.fastq.gz\n",
      "\n",
      "Justification saved to output/SRR29101299/justification.txt\n",
      "\n",
      "Executing Kallisto command for ../2_extract_data/GSE268034_data/SRR29101300_1.fastq.gz:\n",
      "kallisto quant -i /home/myuser/work/data/kallisto_indices/human/index.idx -o output/SRR29101300 -t 4 --plaintext --bootstrap-samples=100 ../2_extract_data/GSE268034_data/SRR29101300_1.fastq.gz ../2_extract_data/GSE268034_data/SRR29101300_2.fastq.gz\n"
     ]
    },
    {
     "name": "stderr",
     "output_type": "stream",
     "text": [
      "\n",
      "[quant] fragment length distribution will be estimated from the data\n",
      "[index] k-mer length: 31\n",
      "[index] number of targets: 227,665\n",
      "[index] number of k-mers: 139,900,295\n",
      "[index] number of D-list k-mers: 5,477,475\n",
      "[quant] running in paired-end mode\n",
      "[quant] will process pair 1: ../2_extract_data/GSE268034_data/SRR29101300_1.fastq.gz\n",
      "                             ../2_extract_data/GSE268034_data/SRR29101300_2.fastq.gz\n",
      "[quant] finding pseudoalignments for the reads ... done\n",
      "[quant] processed 80,000 reads, 37,198 reads pseudoaligned\n",
      "[quant] estimated average fragment length: 211.44\n",
      "[   em] quantifying the abundances ... done\n",
      "[   em] the Expectation-Maximization algorithm ran for 709 rounds\n",
      "\n",
      "\n"
     ]
    },
    {
     "name": "stdout",
     "output_type": "stream",
     "text": [
      "Kallisto quantification completed for ../2_extract_data/GSE268034_data/SRR29101300_1.fastq.gz\n",
      "\n",
      "Justification saved to output/SRR29101300/justification.txt\n",
      "\n",
      "Executing Kallisto command for ../2_extract_data/GSE268034_data/SRR29101301_1.fastq.gz:\n",
      "kallisto quant -i /home/myuser/work/data/kallisto_indices/human/index.idx -o output/SRR29101301 -t 4 --plaintext --bootstrap-samples=100 ../2_extract_data/GSE268034_data/SRR29101301_1.fastq.gz ../2_extract_data/GSE268034_data/SRR29101301_2.fastq.gz\n"
     ]
    },
    {
     "name": "stderr",
     "output_type": "stream",
     "text": [
      "\n",
      "[quant] fragment length distribution will be estimated from the data\n",
      "[index] k-mer length: 31\n",
      "[index] number of targets: 227,665\n",
      "[index] number of k-mers: 139,900,295\n",
      "[index] number of D-list k-mers: 5,477,475\n",
      "[quant] running in paired-end mode\n",
      "[quant] will process pair 1: ../2_extract_data/GSE268034_data/SRR29101301_1.fastq.gz\n",
      "                             ../2_extract_data/GSE268034_data/SRR29101301_2.fastq.gz\n",
      "[quant] finding pseudoalignments for the reads ... done\n",
      "[quant] processed 80,000 reads, 38,817 reads pseudoaligned\n",
      "[quant] estimated average fragment length: 203.794\n",
      "[   em] quantifying the abundances ... done\n",
      "[   em] the Expectation-Maximization algorithm ran for 704 rounds\n",
      "\n",
      "\n"
     ]
    },
    {
     "name": "stdout",
     "output_type": "stream",
     "text": [
      "Kallisto quantification completed for ../2_extract_data/GSE268034_data/SRR29101301_1.fastq.gz\n",
      "\n",
      "Justification saved to output/SRR29101301/justification.txt\n",
      "\n",
      "Executing Kallisto command for ../2_extract_data/GSE268034_data/SRR29101302_1.fastq.gz:\n",
      "kallisto quant -i /home/myuser/work/data/kallisto_indices/human/index.idx -o output/SRR29101302 -t 4 --plaintext --bootstrap-samples=100 ../2_extract_data/GSE268034_data/SRR29101302_1.fastq.gz ../2_extract_data/GSE268034_data/SRR29101302_2.fastq.gz\n"
     ]
    },
    {
     "name": "stderr",
     "output_type": "stream",
     "text": [
      "\n",
      "[quant] fragment length distribution will be estimated from the data\n",
      "[index] k-mer length: 31\n",
      "[index] number of targets: 227,665\n",
      "[index] number of k-mers: 139,900,295\n",
      "[index] number of D-list k-mers: 5,477,475\n",
      "[quant] running in paired-end mode\n",
      "[quant] will process pair 1: ../2_extract_data/GSE268034_data/SRR29101302_1.fastq.gz\n",
      "                             ../2_extract_data/GSE268034_data/SRR29101302_2.fastq.gz\n",
      "[quant] finding pseudoalignments for the reads ... done\n",
      "[quant] processed 80,000 reads, 38,759 reads pseudoaligned\n",
      "[quant] estimated average fragment length: 219.194\n",
      "[   em] quantifying the abundances ... done\n",
      "[   em] the Expectation-Maximization algorithm ran for 738 rounds\n",
      "\n",
      "\n"
     ]
    },
    {
     "name": "stdout",
     "output_type": "stream",
     "text": [
      "Kallisto quantification completed for ../2_extract_data/GSE268034_data/SRR29101302_1.fastq.gz\n",
      "\n",
      "Justification saved to output/SRR29101302/justification.txt\n",
      "\n"
     ]
    }
   ],
   "source": [
    "if __name__ == \"__main__\":\n",
    "    kallisto_commands = identify_kallisto_params()\n",
    "    execute_kallisto_commands(kallisto_commands)"
   ]
  },
  {
   "cell_type": "code",
   "execution_count": 117,
   "id": "4870e0da-2a76-4bdb-a986-4ab2aac455f8",
   "metadata": {},
   "outputs": [
    {
     "name": "stdout",
     "output_type": "stream",
     "text": [
      "Executing Kallisto command for ../2_extract_data/GSE268034_data/SRR29101291_1.fastq.gz:\n",
      "kallisto quant -i /home/myuser/work/data/kallisto_indices/human/index.idx -o output/SRR29101291 -t 4 --plaintext --bootstrap-samples=100 ../2_extract_data/GSE268034_data/SRR29101291_1.fastq.gz ../2_extract_data/GSE268034_data/SRR29101291_2.fastq.gz\n"
     ]
    },
    {
     "name": "stderr",
     "output_type": "stream",
     "text": [
      "\n",
      "[quant] fragment length distribution will be estimated from the data\n",
      "[index] k-mer length: 31\n",
      "[index] number of targets: 227,665\n",
      "[index] number of k-mers: 139,900,295\n",
      "[index] number of D-list k-mers: 5,477,475\n",
      "[quant] running in paired-end mode\n",
      "[quant] will process pair 1: ../2_extract_data/GSE268034_data/SRR29101291_1.fastq.gz\n",
      "                             ../2_extract_data/GSE268034_data/SRR29101291_2.fastq.gz\n",
      "[quant] finding pseudoalignments for the reads ... done\n",
      "[quant] processed 80,000 reads, 30,364 reads pseudoaligned\n",
      "[quant] estimated average fragment length: 209.483\n",
      "[   em] quantifying the abundances ... done\n",
      "[   em] the Expectation-Maximization algorithm ran for 732 rounds\n",
      "\n",
      "\n"
     ]
    },
    {
     "name": "stdout",
     "output_type": "stream",
     "text": [
      "Kallisto quantification completed for ../2_extract_data/GSE268034_data/SRR29101291_1.fastq.gz\n",
      "\n",
      "Justification saved to output/SRR29101291/justification.txt\n",
      "\n",
      "Executing Kallisto command for ../2_extract_data/GSE268034_data/SRR29101292_1.fastq.gz:\n",
      "kallisto quant -i /home/myuser/work/data/kallisto_indices/human/index.idx -o output/SRR29101292 -t 4 --plaintext --bootstrap-samples=100 ../2_extract_data/GSE268034_data/SRR29101292_1.fastq.gz ../2_extract_data/GSE268034_data/SRR29101292_2.fastq.gz\n"
     ]
    },
    {
     "name": "stderr",
     "output_type": "stream",
     "text": [
      "\n",
      "[quant] fragment length distribution will be estimated from the data\n",
      "[index] k-mer length: 31\n",
      "[index] number of targets: 227,665\n",
      "[index] number of k-mers: 139,900,295\n",
      "[index] number of D-list k-mers: 5,477,475\n",
      "[quant] running in paired-end mode\n",
      "[quant] will process pair 1: ../2_extract_data/GSE268034_data/SRR29101292_1.fastq.gz\n",
      "                             ../2_extract_data/GSE268034_data/SRR29101292_2.fastq.gz\n",
      "[quant] finding pseudoalignments for the reads ... done\n",
      "[quant] processed 80,000 reads, 30,242 reads pseudoaligned\n",
      "[quant] estimated average fragment length: 200.645\n",
      "[   em] quantifying the abundances ... done\n",
      "[   em] the Expectation-Maximization algorithm ran for 669 rounds\n",
      "\n",
      "\n"
     ]
    },
    {
     "name": "stdout",
     "output_type": "stream",
     "text": [
      "Kallisto quantification completed for ../2_extract_data/GSE268034_data/SRR29101292_1.fastq.gz\n",
      "\n",
      "Justification saved to output/SRR29101292/justification.txt\n",
      "\n",
      "Executing Kallisto command for ../2_extract_data/GSE268034_data/SRR29101293_1.fastq.gz:\n",
      "kallisto quant -i /home/myuser/work/data/kallisto_indices/human/index.idx -o output/SRR29101293 -t 4 --plaintext --bootstrap-samples=100 ../2_extract_data/GSE268034_data/SRR29101293_1.fastq.gz ../2_extract_data/GSE268034_data/SRR29101293_2.fastq.gz\n"
     ]
    },
    {
     "name": "stderr",
     "output_type": "stream",
     "text": [
      "\n",
      "[quant] fragment length distribution will be estimated from the data\n",
      "[index] k-mer length: 31\n",
      "[index] number of targets: 227,665\n",
      "[index] number of k-mers: 139,900,295\n",
      "[index] number of D-list k-mers: 5,477,475\n",
      "[quant] running in paired-end mode\n",
      "[quant] will process pair 1: ../2_extract_data/GSE268034_data/SRR29101293_1.fastq.gz\n",
      "                             ../2_extract_data/GSE268034_data/SRR29101293_2.fastq.gz\n",
      "[quant] finding pseudoalignments for the reads ... done\n",
      "[quant] processed 80,000 reads, 32,224 reads pseudoaligned\n",
      "[quant] estimated average fragment length: 201.753\n",
      "[   em] quantifying the abundances ... done\n",
      "[   em] the Expectation-Maximization algorithm ran for 724 rounds\n",
      "\n",
      "\n"
     ]
    },
    {
     "name": "stdout",
     "output_type": "stream",
     "text": [
      "Kallisto quantification completed for ../2_extract_data/GSE268034_data/SRR29101293_1.fastq.gz\n",
      "\n",
      "Justification saved to output/SRR29101293/justification.txt\n",
      "\n",
      "Executing Kallisto command for ../2_extract_data/GSE268034_data/SRR29101294_1.fastq.gz:\n",
      "kallisto quant -i /home/myuser/work/data/kallisto_indices/human/index.idx -o output/SRR29101294 -t 4 --plaintext --bootstrap-samples=100 ../2_extract_data/GSE268034_data/SRR29101294_1.fastq.gz ../2_extract_data/GSE268034_data/SRR29101294_2.fastq.gz\n"
     ]
    },
    {
     "name": "stderr",
     "output_type": "stream",
     "text": [
      "\n",
      "[quant] fragment length distribution will be estimated from the data\n",
      "[index] k-mer length: 31\n",
      "[index] number of targets: 227,665\n",
      "[index] number of k-mers: 139,900,295\n",
      "[index] number of D-list k-mers: 5,477,475\n",
      "[quant] running in paired-end mode\n",
      "[quant] will process pair 1: ../2_extract_data/GSE268034_data/SRR29101294_1.fastq.gz\n",
      "                             ../2_extract_data/GSE268034_data/SRR29101294_2.fastq.gz\n",
      "[quant] finding pseudoalignments for the reads ... done\n",
      "[quant] processed 80,000 reads, 30,720 reads pseudoaligned\n",
      "[quant] estimated average fragment length: 212.242\n",
      "[   em] quantifying the abundances ... done\n",
      "[   em] the Expectation-Maximization algorithm ran for 675 rounds\n",
      "\n",
      "\n"
     ]
    },
    {
     "name": "stdout",
     "output_type": "stream",
     "text": [
      "Kallisto quantification completed for ../2_extract_data/GSE268034_data/SRR29101294_1.fastq.gz\n",
      "\n",
      "Justification saved to output/SRR29101294/justification.txt\n",
      "\n",
      "Executing Kallisto command for ../2_extract_data/GSE268034_data/SRR29101295_1.fastq.gz:\n",
      "kallisto quant -i /home/myuser/work/data/kallisto_indices/human/index.idx -o output/SRR29101295 -t 4 --plaintext --bootstrap-samples=100 ../2_extract_data/GSE268034_data/SRR29101295_1.fastq.gz ../2_extract_data/GSE268034_data/SRR29101295_2.fastq.gz\n"
     ]
    },
    {
     "name": "stderr",
     "output_type": "stream",
     "text": [
      "\n",
      "[quant] fragment length distribution will be estimated from the data\n",
      "[index] k-mer length: 31\n",
      "[index] number of targets: 227,665\n",
      "[index] number of k-mers: 139,900,295\n",
      "[index] number of D-list k-mers: 5,477,475\n",
      "[quant] running in paired-end mode\n",
      "[quant] will process pair 1: ../2_extract_data/GSE268034_data/SRR29101295_1.fastq.gz\n",
      "                             ../2_extract_data/GSE268034_data/SRR29101295_2.fastq.gz\n",
      "[quant] finding pseudoalignments for the reads ... done\n",
      "[quant] processed 80,000 reads, 29,669 reads pseudoaligned\n",
      "[quant] estimated average fragment length: 203.446\n",
      "[   em] quantifying the abundances ... done\n",
      "[   em] the Expectation-Maximization algorithm ran for 711 rounds\n",
      "\n",
      "\n"
     ]
    },
    {
     "name": "stdout",
     "output_type": "stream",
     "text": [
      "Kallisto quantification completed for ../2_extract_data/GSE268034_data/SRR29101295_1.fastq.gz\n",
      "\n",
      "Justification saved to output/SRR29101295/justification.txt\n",
      "\n",
      "Executing Kallisto command for ../2_extract_data/GSE268034_data/SRR29101296_1.fastq.gz:\n",
      "kallisto quant -i /home/myuser/work/data/kallisto_indices/human/index.idx -o output/SRR29101296 -t 4 --plaintext --bootstrap-samples=100 ../2_extract_data/GSE268034_data/SRR29101296_1.fastq.gz ../2_extract_data/GSE268034_data/SRR29101296_2.fastq.gz\n"
     ]
    },
    {
     "name": "stderr",
     "output_type": "stream",
     "text": [
      "\n",
      "[quant] fragment length distribution will be estimated from the data\n",
      "[index] k-mer length: 31\n",
      "[index] number of targets: 227,665\n",
      "[index] number of k-mers: 139,900,295\n",
      "[index] number of D-list k-mers: 5,477,475\n",
      "[quant] running in paired-end mode\n",
      "[quant] will process pair 1: ../2_extract_data/GSE268034_data/SRR29101296_1.fastq.gz\n",
      "                             ../2_extract_data/GSE268034_data/SRR29101296_2.fastq.gz\n",
      "[quant] finding pseudoalignments for the reads ... done\n",
      "[quant] processed 80,000 reads, 31,540 reads pseudoaligned\n",
      "[quant] estimated average fragment length: 214.288\n",
      "[   em] quantifying the abundances ... done\n",
      "[   em] the Expectation-Maximization algorithm ran for 683 rounds\n",
      "\n",
      "\n"
     ]
    },
    {
     "name": "stdout",
     "output_type": "stream",
     "text": [
      "Kallisto quantification completed for ../2_extract_data/GSE268034_data/SRR29101296_1.fastq.gz\n",
      "\n",
      "Justification saved to output/SRR29101296/justification.txt\n",
      "\n",
      "Executing Kallisto command for ../2_extract_data/GSE268034_data/SRR29101297_1.fastq.gz:\n",
      "kallisto quant -i /home/myuser/work/data/kallisto_indices/human/index.idx -o output/SRR29101297 -t 4 --plaintext --bootstrap-samples=100 ../2_extract_data/GSE268034_data/SRR29101297_1.fastq.gz ../2_extract_data/GSE268034_data/SRR29101297_2.fastq.gz\n"
     ]
    },
    {
     "name": "stderr",
     "output_type": "stream",
     "text": [
      "\n",
      "[quant] fragment length distribution will be estimated from the data\n",
      "[index] k-mer length: 31\n",
      "[index] number of targets: 227,665\n",
      "[index] number of k-mers: 139,900,295\n",
      "[index] number of D-list k-mers: 5,477,475\n",
      "[quant] running in paired-end mode\n",
      "[quant] will process pair 1: ../2_extract_data/GSE268034_data/SRR29101297_1.fastq.gz\n",
      "                             ../2_extract_data/GSE268034_data/SRR29101297_2.fastq.gz\n",
      "[quant] finding pseudoalignments for the reads ... done\n",
      "[quant] processed 80,000 reads, 33,865 reads pseudoaligned\n",
      "[quant] estimated average fragment length: 212.372\n",
      "[   em] quantifying the abundances ... done\n",
      "[   em] the Expectation-Maximization algorithm ran for 675 rounds\n",
      "\n",
      "\n"
     ]
    },
    {
     "name": "stdout",
     "output_type": "stream",
     "text": [
      "Kallisto quantification completed for ../2_extract_data/GSE268034_data/SRR29101297_1.fastq.gz\n",
      "\n",
      "Justification saved to output/SRR29101297/justification.txt\n",
      "\n",
      "Executing Kallisto command for ../2_extract_data/GSE268034_data/SRR29101298_1.fastq.gz:\n",
      "kallisto quant -i /home/myuser/work/data/kallisto_indices/human/index.idx -o output/SRR29101298 -t 4 --plaintext --bootstrap-samples=100 ../2_extract_data/GSE268034_data/SRR29101298_1.fastq.gz ../2_extract_data/GSE268034_data/SRR29101298_2.fastq.gz\n"
     ]
    },
    {
     "name": "stderr",
     "output_type": "stream",
     "text": [
      "\n",
      "[quant] fragment length distribution will be estimated from the data\n",
      "[index] k-mer length: 31\n",
      "[index] number of targets: 227,665\n",
      "[index] number of k-mers: 139,900,295\n",
      "[index] number of D-list k-mers: 5,477,475\n",
      "[quant] running in paired-end mode\n",
      "[quant] will process pair 1: ../2_extract_data/GSE268034_data/SRR29101298_1.fastq.gz\n",
      "                             ../2_extract_data/GSE268034_data/SRR29101298_2.fastq.gz\n",
      "[quant] finding pseudoalignments for the reads ... done\n",
      "[quant] processed 80,000 reads, 34,001 reads pseudoaligned\n",
      "[quant] estimated average fragment length: 210.536\n",
      "[   em] quantifying the abundances ... done\n",
      "[   em] the Expectation-Maximization algorithm ran for 692 rounds\n",
      "\n",
      "\n"
     ]
    },
    {
     "name": "stdout",
     "output_type": "stream",
     "text": [
      "Kallisto quantification completed for ../2_extract_data/GSE268034_data/SRR29101298_1.fastq.gz\n",
      "\n",
      "Justification saved to output/SRR29101298/justification.txt\n",
      "\n",
      "Executing Kallisto command for ../2_extract_data/GSE268034_data/SRR29101299_1.fastq.gz:\n",
      "kallisto quant -i /home/myuser/work/data/kallisto_indices/human/index.idx -o output/SRR29101299 -t 4 --plaintext --bootstrap-samples=100 ../2_extract_data/GSE268034_data/SRR29101299_1.fastq.gz ../2_extract_data/GSE268034_data/SRR29101299_2.fastq.gz\n"
     ]
    },
    {
     "name": "stderr",
     "output_type": "stream",
     "text": [
      "\n",
      "[quant] fragment length distribution will be estimated from the data\n",
      "[index] k-mer length: 31\n",
      "[index] number of targets: 227,665\n",
      "[index] number of k-mers: 139,900,295\n",
      "[index] number of D-list k-mers: 5,477,475\n",
      "[quant] running in paired-end mode\n",
      "[quant] will process pair 1: ../2_extract_data/GSE268034_data/SRR29101299_1.fastq.gz\n",
      "                             ../2_extract_data/GSE268034_data/SRR29101299_2.fastq.gz\n",
      "[quant] finding pseudoalignments for the reads ... done\n",
      "[quant] processed 80,000 reads, 36,915 reads pseudoaligned\n",
      "[quant] estimated average fragment length: 204.182\n",
      "[   em] quantifying the abundances ... done\n",
      "[   em] the Expectation-Maximization algorithm ran for 810 rounds\n",
      "\n",
      "\n"
     ]
    },
    {
     "name": "stdout",
     "output_type": "stream",
     "text": [
      "Kallisto quantification completed for ../2_extract_data/GSE268034_data/SRR29101299_1.fastq.gz\n",
      "\n",
      "Justification saved to output/SRR29101299/justification.txt\n",
      "\n",
      "Executing Kallisto command for ../2_extract_data/GSE268034_data/SRR29101300_1.fastq.gz:\n",
      "kallisto quant -i /home/myuser/work/data/kallisto_indices/human/index.idx -o output/SRR29101300 -t 4 --plaintext --bootstrap-samples=100 ../2_extract_data/GSE268034_data/SRR29101300_1.fastq.gz ../2_extract_data/GSE268034_data/SRR29101300_2.fastq.gz\n"
     ]
    },
    {
     "name": "stderr",
     "output_type": "stream",
     "text": [
      "\n",
      "[quant] fragment length distribution will be estimated from the data\n",
      "[index] k-mer length: 31\n",
      "[index] number of targets: 227,665\n",
      "[index] number of k-mers: 139,900,295\n",
      "[index] number of D-list k-mers: 5,477,475\n",
      "[quant] running in paired-end mode\n",
      "[quant] will process pair 1: ../2_extract_data/GSE268034_data/SRR29101300_1.fastq.gz\n",
      "                             ../2_extract_data/GSE268034_data/SRR29101300_2.fastq.gz\n",
      "[quant] finding pseudoalignments for the reads ... done\n",
      "[quant] processed 80,000 reads, 37,198 reads pseudoaligned\n",
      "[quant] estimated average fragment length: 211.44\n",
      "[   em] quantifying the abundances ... done\n",
      "[   em] the Expectation-Maximization algorithm ran for 709 rounds\n",
      "\n",
      "\n"
     ]
    },
    {
     "name": "stdout",
     "output_type": "stream",
     "text": [
      "Kallisto quantification completed for ../2_extract_data/GSE268034_data/SRR29101300_1.fastq.gz\n",
      "\n",
      "Justification saved to output/SRR29101300/justification.txt\n",
      "\n",
      "Executing Kallisto command for ../2_extract_data/GSE268034_data/SRR29101301_1.fastq.gz:\n",
      "kallisto quant -i /home/myuser/work/data/kallisto_indices/human/index.idx -o output/SRR29101301 -t 4 --plaintext --bootstrap-samples=100 ../2_extract_data/GSE268034_data/SRR29101301_1.fastq.gz ../2_extract_data/GSE268034_data/SRR29101301_2.fastq.gz\n"
     ]
    },
    {
     "name": "stderr",
     "output_type": "stream",
     "text": [
      "\n",
      "[quant] fragment length distribution will be estimated from the data\n",
      "[index] k-mer length: 31\n",
      "[index] number of targets: 227,665\n",
      "[index] number of k-mers: 139,900,295\n",
      "[index] number of D-list k-mers: 5,477,475\n",
      "[quant] running in paired-end mode\n",
      "[quant] will process pair 1: ../2_extract_data/GSE268034_data/SRR29101301_1.fastq.gz\n",
      "                             ../2_extract_data/GSE268034_data/SRR29101301_2.fastq.gz\n",
      "[quant] finding pseudoalignments for the reads ... done\n",
      "[quant] processed 80,000 reads, 38,817 reads pseudoaligned\n",
      "[quant] estimated average fragment length: 203.794\n",
      "[   em] quantifying the abundances ... done\n",
      "[   em] the Expectation-Maximization algorithm ran for 704 rounds\n",
      "\n",
      "\n"
     ]
    },
    {
     "name": "stdout",
     "output_type": "stream",
     "text": [
      "Kallisto quantification completed for ../2_extract_data/GSE268034_data/SRR29101301_1.fastq.gz\n",
      "\n",
      "Justification saved to output/SRR29101301/justification.txt\n",
      "\n",
      "Executing Kallisto command for ../2_extract_data/GSE268034_data/SRR29101302_1.fastq.gz:\n",
      "kallisto quant -i /home/myuser/work/data/kallisto_indices/human/index.idx -o output/SRR29101302 -t 4 --plaintext --bootstrap-samples=100 ../2_extract_data/GSE268034_data/SRR29101302_1.fastq.gz ../2_extract_data/GSE268034_data/SRR29101302_2.fastq.gz\n"
     ]
    },
    {
     "name": "stderr",
     "output_type": "stream",
     "text": [
      "\n",
      "[quant] fragment length distribution will be estimated from the data\n",
      "[index] k-mer length: 31\n",
      "[index] number of targets: 227,665\n",
      "[index] number of k-mers: 139,900,295\n",
      "[index] number of D-list k-mers: 5,477,475\n",
      "[quant] running in paired-end mode\n",
      "[quant] will process pair 1: ../2_extract_data/GSE268034_data/SRR29101302_1.fastq.gz\n",
      "                             ../2_extract_data/GSE268034_data/SRR29101302_2.fastq.gz\n",
      "[quant] finding pseudoalignments for the reads ... done\n",
      "[quant] processed 80,000 reads, 38,759 reads pseudoaligned\n",
      "[quant] estimated average fragment length: 219.194\n",
      "[   em] quantifying the abundances ... done\n",
      "[   em] the Expectation-Maximization algorithm ran for 738 rounds\n",
      "\n",
      "\n"
     ]
    },
    {
     "name": "stdout",
     "output_type": "stream",
     "text": [
      "Kallisto quantification completed for ../2_extract_data/GSE268034_data/SRR29101302_1.fastq.gz\n",
      "\n",
      "Justification saved to output/SRR29101302/justification.txt\n",
      "\n"
     ]
    }
   ],
   "source": [
    "execute_kallisto_commands(kallisto_commands)"
   ]
  },
  {
   "cell_type": "markdown",
   "id": "1fed29eb-eed4-4bcb-ae9e-1d94b31b7feb",
   "metadata": {},
   "source": [
    "This looks good to me... I will leave it here for the moment, but the pressing questions are\n",
    "a) external validation (which I think I will rely on external datasets...)\n",
    "b) is this method robust... \n",
    "c) an internal validation/checking mechanism\n",
    "\n",
    "But I am happy with the bones of this. \n",
    "\n",
    "Wait no I'm not, I want to take everything here and put it in a single function. That can wait until I finalise the next step."
   ]
  },
  {
   "cell_type": "markdown",
   "id": "784d4426-df88-41a4-ba33-8528b637fc4e",
   "metadata": {},
   "source": [
    "# Combined function"
   ]
  }
 ],
 "metadata": {
  "kernelspec": {
   "display_name": "Python (Poetry)",
   "language": "python",
   "name": "poetry-env"
  },
  "language_info": {
   "codemirror_mode": {
    "name": "ipython",
    "version": 3
   },
   "file_extension": ".py",
   "mimetype": "text/x-python",
   "name": "python",
   "nbconvert_exporter": "python",
   "pygments_lexer": "ipython3",
   "version": "3.12.7"
  }
 },
 "nbformat": 4,
 "nbformat_minor": 5
}
