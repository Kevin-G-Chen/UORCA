{
 "cells": [
  {
   "cell_type": "raw",
   "id": "33d064c5-b471-4f1a-b2fe-85810eac900b",
   "metadata": {},
   "source": [
    "The purpose of this notebook is to develop the framework for processing the DGE object in an interactive session. I will then adapt from this to create a script which I will use to interface with Python/OpenAI API. \n",
    "\n",
    "(Edit from a week later - I might hold off on this. The initial idea I had was to plug in values into here, however I suspect a more flexible workflow, allowing the LLM to take the reins and see how I adapt from there)\n",
    "\n",
    "(Edit from a day after the above edit - I will come back to this"
   ]
  },
  {
   "cell_type": "code",
   "execution_count": 5,
   "id": "8de29d1e-0fc2-4826-8d27-4d382bd22d8b",
   "metadata": {},
   "outputs": [],
   "source": [
    "# Load libraries\n",
    "\n",
    "library(limma)\n",
    "library(tximport)\n",
    "library(edgeR)\n",
    "library(DESeq2)\n",
    "library(tidyverse)"
   ]
  },
  {
   "cell_type": "code",
   "execution_count": 7,
   "id": "6feb3b8e-2512-4868-af0a-d6f4a0571292",
   "metadata": {},
   "outputs": [
    {
     "name": "stderr",
     "output_type": "stream",
     "text": [
      "\u001b[1mRows: \u001b[22m\u001b[34m32\u001b[39m \u001b[1mColumns: \u001b[22m\u001b[34m5\u001b[39m\n",
      "\u001b[36m──\u001b[39m \u001b[1mColumn specification\u001b[22m \u001b[36m────────────────────────────────────────────────────────\u001b[39m\n",
      "\u001b[1mDelimiter:\u001b[22m \",\"\n",
      "\u001b[31mchr\u001b[39m (4): Sample Name, Transfection, Genotype, Cell type\n",
      "\u001b[32mdbl\u001b[39m (1): Neural differentiation set\n",
      "\n",
      "\u001b[36mℹ\u001b[39m Use `spec()` to retrieve the full column specification for this data.\n",
      "\u001b[36mℹ\u001b[39m Specify the column types or set `show_col_types = FALSE` to quiet this message.\n"
     ]
    },
    {
     "name": "stdout",
     "output_type": "stream",
     "text": [
      "Formal class 'DGEList' [package \"edgeR\"] with 1 slot\n",
      "  ..@ .Data:List of 2\n",
      "  .. ..$ : num [1:25316, 1:32] 121.79 4.93 0 80.18 3.72 ...\n",
      "  .. .. ..- attr(*, \"dimnames\")=List of 2\n",
      "  .. .. .. ..$ : chr [1:25316] \"1\" \"2\" \"3\" \"9\" ...\n",
      "  .. .. .. ..$ : chr [1:32] \"Sample1\" \"Sample2\" \"Sample3\" \"Sample4\" ...\n",
      "  .. ..$ :'data.frame':\t32 obs. of  3 variables:\n",
      "  .. .. ..$ group       : Factor w/ 1 level \"1\": 1 1 1 1 1 1 1 1 1 1 ...\n",
      "  .. .. ..$ lib.size    : num [1:32] 25577888 28119023 27596462 29571980 28086373 ...\n",
      "  .. .. ..$ norm.factors: num [1:32] 1 1 1 1 1 1 1 1 1 1 ...\n",
      "  ..$ names: chr [1:2] \"counts\" \"samples\"\n",
      "spc_tbl_ [32 × 5] (S3: spec_tbl_df/tbl_df/tbl/data.frame)\n",
      " $ Sample Name               : chr [1:32] \"KOLF2_SETBP1_VUS2_A21_10_day 0\" \"KOLF2_SETBP1_VUS2_A21_7_day 0\" \"KOLF2_SETBP1_VUS2_A21_10_day 24\" \"KOLF2_SETBP1_VUS2_A21_7_day 24\" ...\n",
      " $ Transfection              : chr [1:32] \"A\" \"A\" \"A\" \"A\" ...\n",
      " $ Genotype                  : chr [1:32] \"VUS2 HDR/WT\" \"VUS2 HDR/WT\" \"VUS2 HDR/WT\" \"VUS2 HDR/WT\" ...\n",
      " $ Cell type                 : chr [1:32] \"iPSC\" \"iPSC\" \"NPC\" \"NPC\" ...\n",
      " $ Neural differentiation set: num [1:32] 2 1 2 1 1 2 1 2 1 1 ...\n",
      " - attr(*, \"spec\")=\n",
      "  .. cols(\n",
      "  ..   `Sample Name` = \u001b[31mcol_character()\u001b[39m,\n",
      "  ..   Transfection = \u001b[31mcol_character()\u001b[39m,\n",
      "  ..   Genotype = \u001b[31mcol_character()\u001b[39m,\n",
      "  ..   `Cell type` = \u001b[31mcol_character()\u001b[39m,\n",
      "  ..   `Neural differentiation set` = \u001b[32mcol_double()\u001b[39m\n",
      "  .. )\n",
      " - attr(*, \"problems\")=<externalptr> \n"
     ]
    }
   ],
   "source": [
    "# Load pre-prepared R object and metadata\n",
    "\n",
    "DGE <- readRDS(\"../InputData/SETBP1_Tests//TestDGE.RDS\")\n",
    "meta <- read_csv(\"../InputData//SETBP1_Tests/SETBP1_RNAseq_samples.csv\") # Loading correct file here, I want to use the error'd file for testing purposes with OpenAI\n",
    "\n",
    "str(DGE)\n",
    "str(meta)"
   ]
  },
  {
   "cell_type": "code",
   "execution_count": 8,
   "id": "ea929eee-de17-4b9e-9ad3-534a99a629d1",
   "metadata": {},
   "outputs": [
    {
     "data": {
      "text/plain": [
       "R version 4.2.2 Patched (2022-11-10 r83330)\n",
       "Platform: aarch64-unknown-linux-gnu (64-bit)\n",
       "Running under: Debian GNU/Linux 12 (bookworm)\n",
       "\n",
       "Matrix products: default\n",
       "BLAS:   /usr/lib/aarch64-linux-gnu/blas/libblas.so.3.11.0\n",
       "LAPACK: /usr/lib/aarch64-linux-gnu/lapack/liblapack.so.3.11.0\n",
       "\n",
       "locale:\n",
       " [1] LC_CTYPE=C.UTF-8       LC_NUMERIC=C           LC_TIME=C.UTF-8       \n",
       " [4] LC_COLLATE=C.UTF-8     LC_MONETARY=C.UTF-8    LC_MESSAGES=C.UTF-8   \n",
       " [7] LC_PAPER=C.UTF-8       LC_NAME=C              LC_ADDRESS=C          \n",
       "[10] LC_TELEPHONE=C         LC_MEASUREMENT=C.UTF-8 LC_IDENTIFICATION=C   \n",
       "\n",
       "attached base packages:\n",
       "[1] stats4    stats     graphics  grDevices utils     datasets  methods  \n",
       "[8] base     \n",
       "\n",
       "other attached packages:\n",
       " [1] lubridate_1.9.3             forcats_1.0.0              \n",
       " [3] stringr_1.5.1               dplyr_1.1.4                \n",
       " [5] purrr_1.0.2                 readr_2.1.5                \n",
       " [7] tidyr_1.3.1                 tibble_3.2.1               \n",
       " [9] ggplot2_3.5.1               tidyverse_2.0.0            \n",
       "[11] DESeq2_1.38.3               SummarizedExperiment_1.28.0\n",
       "[13] Biobase_2.58.0              MatrixGenerics_1.10.0      \n",
       "[15] matrixStats_1.3.0           GenomicRanges_1.50.2       \n",
       "[17] GenomeInfoDb_1.34.9         IRanges_2.32.0             \n",
       "[19] S4Vectors_0.36.2            BiocGenerics_0.44.0        \n",
       "[21] edgeR_3.40.2                tximport_1.26.1            \n",
       "[23] limma_3.54.2               \n",
       "\n",
       "loaded via a namespace (and not attached):\n",
       " [1] httr_1.4.7             vroom_1.6.5            bit64_4.0.5           \n",
       " [4] jsonlite_1.8.8         blob_1.2.4             GenomeInfoDbData_1.2.9\n",
       " [7] pillar_1.9.0           RSQLite_2.3.7          lattice_0.20-45       \n",
       "[10] glue_1.7.0             uuid_1.2-1             digest_0.6.36         \n",
       "[13] RColorBrewer_1.1-3     XVector_0.38.0         colorspace_2.1-1      \n",
       "[16] htmltools_0.5.8.1      Matrix_1.5-3           XML_3.99-0.17         \n",
       "[19] pkgconfig_2.0.3        zlibbioc_1.44.0        xtable_1.8-4          \n",
       "[22] scales_1.3.0           tzdb_0.4.0             BiocParallel_1.32.6   \n",
       "[25] timechange_0.3.0       annotate_1.76.0        KEGGREST_1.38.0       \n",
       "[28] generics_0.1.3         withr_3.0.0            cachem_1.1.0          \n",
       "[31] repr_1.1.7             cli_3.6.3              magrittr_2.0.3        \n",
       "[34] crayon_1.5.3           memoise_2.0.1          evaluate_0.24.0       \n",
       "[37] fansi_1.0.6            tools_4.2.2            hms_1.1.3             \n",
       "[40] lifecycle_1.0.4        munsell_0.5.1          locfit_1.5-9.10       \n",
       "[43] DelayedArray_0.24.0    AnnotationDbi_1.60.2   Biostrings_2.66.0     \n",
       "[46] compiler_4.2.2         rlang_1.1.4            grid_4.2.2            \n",
       "[49] RCurl_1.98-1.16        pbdZMQ_0.3-11          IRkernel_1.3.2        \n",
       "[52] bitops_1.0-8           base64enc_0.1-3        gtable_0.3.5          \n",
       "[55] codetools_0.2-19       DBI_1.2.3              R6_2.5.1              \n",
       "[58] fastmap_1.2.0          bit_4.0.5              utf8_1.2.4            \n",
       "[61] stringi_1.8.4          parallel_4.2.2         IRdisplay_1.1         \n",
       "[64] Rcpp_1.0.13            vctrs_0.6.5            geneplotter_1.76.0    \n",
       "[67] png_0.1-8              tidyselect_1.2.1      "
      ]
     },
     "metadata": {},
     "output_type": "display_data"
    }
   ],
   "source": [
    "# Finish the DGE object\n",
    "\n",
    "sessionInfo()"
   ]
  },
  {
   "cell_type": "code",
   "execution_count": null,
   "id": "19629e07-e3ce-4d39-90b8-1a4cae5a7f10",
   "metadata": {},
   "outputs": [],
   "source": []
  }
 ],
 "metadata": {
  "kernelspec": {
   "display_name": "R",
   "language": "R",
   "name": "ir"
  },
  "language_info": {
   "codemirror_mode": "r",
   "file_extension": ".r",
   "mimetype": "text/x-r-source",
   "name": "R",
   "pygments_lexer": "r",
   "version": "4.2.2"
  }
 },
 "nbformat": 4,
 "nbformat_minor": 5
}
