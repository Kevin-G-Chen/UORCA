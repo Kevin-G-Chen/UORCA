{
 "cells": [
  {
   "cell_type": "code",
   "execution_count": 5,
   "id": "03325ba5-a456-4c4a-a625-37b6d11eb6cf",
   "metadata": {},
   "outputs": [],
   "source": [
    "# In the context of analysing RNAseq data, I think my goal will be to integrate R, OpenAI, and Python. I would feel more confident working with an edgeR/limma based pipeline. \n",
    "\n",
    "# Therefore, I will begin with just a simple implementation of how to combine these together.\n",
    "\n",
    "from openai import OpenAI\n",
    "import subprocess\n",
    "from dotenv import load_dotenv\n",
    "import os"
   ]
  },
  {
   "cell_type": "code",
   "execution_count": 11,
   "id": "f42a3dfd-d2e9-426f-9281-4e3e6d69ee7f",
   "metadata": {},
   "outputs": [],
   "source": [
    "# Prepare OpenAI API Key\n",
    "\n",
    "load_dotenv('../../.env')\n",
    "\n",
    "openai_api_key = os.getenv('OPENAI_API_KEY')"
   ]
  },
  {
   "cell_type": "code",
   "execution_count": 2,
   "id": "3c002374-8ac9-45f7-bc43-580b54235a29",
   "metadata": {},
   "outputs": [],
   "source": [
    "# Define function for calling the R script\n",
    "\n",
    "def run_r_script(param):\n",
    "    command = [\"Rscript\", \"./TestScript.R\", \"--param\", param]\n",
    "    result = subprocess.run(command, capture_output=True, text=True)\n",
    "    return result.stdout.strip()"
   ]
  },
  {
   "cell_type": "code",
   "execution_count": 17,
   "id": "88781575-b717-44eb-9edb-f2f4bc5fe69c",
   "metadata": {},
   "outputs": [
    {
     "name": "stdout",
     "output_type": "stream",
     "text": [
      "input_file_path\n"
     ]
    },
    {
     "data": {
      "text/plain": [
       "'[1] \"The specified parameter is: input_file_path\"'"
      ]
     },
     "execution_count": 17,
     "metadata": {},
     "output_type": "execute_result"
    }
   ],
   "source": [
    "# Define OpenAI API call\n",
    "\n",
    "def get_openai_response(prompt, api_key):\n",
    "    client = OpenAI(api_key=api_key)\n",
    "    chat_completion = client.chat.completions.create(\n",
    "        messages=[{\"role\": \"user\", \"content\": \"Suggest a parameter for an R script. Respond with just the parameter name, no explanation.\"}],\n",
    "        model=\"gpt-4o-mini\", \n",
    "    )\n",
    "    return chat_completion.choices[0].message.content\n",
    "\n",
    "if __name__ == \"__main__\":\n",
    "    parameter = get_openai_response(ai_prompt, openai_api_key)\n",
    "    print(parameter)\n",
    "\n",
    "    # Run R script with the parameter\n",
    "    r_output = run_r_script(parameter)\n",
    "\n",
    "r_output\n",
    "\n",
    "# In future, i.e. a few minutes/hours from now, I'd be using instructor to specify output formats etc."
   ]
  },
  {
   "cell_type": "code",
   "execution_count": null,
   "id": "2e8eee69-048f-4ca2-89c1-4a7f81f2065b",
   "metadata": {},
   "outputs": [],
   "source": []
  }
 ],
 "metadata": {
  "kernelspec": {
   "display_name": "Python (Poetry)",
   "language": "python",
   "name": "poetry-env"
  },
  "language_info": {
   "codemirror_mode": {
    "name": "ipython",
    "version": 3
   },
   "file_extension": ".py",
   "mimetype": "text/x-python",
   "name": "python",
   "nbconvert_exporter": "python",
   "pygments_lexer": "ipython3",
   "version": "3.12.5"
  }
 },
 "nbformat": 4,
 "nbformat_minor": 5
}
