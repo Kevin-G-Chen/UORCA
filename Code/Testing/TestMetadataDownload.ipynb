{
 "cells": [
  {
   "cell_type": "code",
   "execution_count": 2,
   "id": "97744368-ece8-4ac4-a4d8-2f8cc5dc2aae",
   "metadata": {},
   "outputs": [
    {
     "name": "stderr",
     "output_type": "stream",
     "text": [
      "Found 1 file(s)\n",
      "\n",
      "GSE178333_series_matrix.txt.gz\n",
      "\n",
      "Using locally cached version: /tmp/RtmpLUBvu9/GSE178333_series_matrix.txt.gz\n",
      "\n",
      "Using locally cached version of GPL18573 found here:\n",
      "/tmp/RtmpLUBvu9/GPL18573.soft.gz \n",
      "\n"
     ]
    }
   ],
   "source": [
    "# Load GEOquery package\n",
    "library(GEOquery)\n",
    "library(tidyverse)\n",
    "# Fetch the GEO series data\n",
    "gse <- getGEO(\"GSE178333\", GSEMatrix = TRUE)\n",
    "\n",
    "# Access the metadata\n",
    "# gse is a list, so we need to access the first element\n",
    "gse_data <- gse[[1]]\n",
    "\n",
    "# Get the sample metadata\n",
    "sample_metadata <- pData(gse_data)\n",
    "\n",
    "dir.create(\"~/work//InputData/GSE178333_COVID\")\n",
    "\n",
    "write_csv(sample_metadata, \"~/work/InputData/GSE178333_COVID/meta.csv\")\n",
    "\n",
    "# Should be trivial to optparse this when I need to"
   ]
  },
  {
   "cell_type": "code",
   "execution_count": null,
   "id": "6d3fb4b6-fe18-4354-b5f1-fa2bdfdd50cd",
   "metadata": {},
   "outputs": [],
   "source": []
  }
 ],
 "metadata": {
  "kernelspec": {
   "display_name": "R",
   "language": "R",
   "name": "ir"
  },
  "language_info": {
   "codemirror_mode": "r",
   "file_extension": ".r",
   "mimetype": "text/x-r-source",
   "name": "R",
   "pygments_lexer": "r",
   "version": "4.2.2"
  }
 },
 "nbformat": 4,
 "nbformat_minor": 5
}
