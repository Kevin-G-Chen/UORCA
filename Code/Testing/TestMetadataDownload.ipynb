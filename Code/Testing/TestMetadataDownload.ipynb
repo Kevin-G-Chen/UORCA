{
 "cells": [
  {
   "cell_type": "code",
   "execution_count": 2,
   "id": "97744368-ece8-4ac4-a4d8-2f8cc5dc2aae",
   "metadata": {},
   "outputs": [
    {
     "name": "stderr",
     "output_type": "stream",
     "text": [
      "── \u001b[1mAttaching core tidyverse packages\u001b[22m ──────────────────────── tidyverse 2.0.0 ──\n",
      "\u001b[32m✔\u001b[39m \u001b[34mdplyr    \u001b[39m 1.1.4     \u001b[32m✔\u001b[39m \u001b[34mreadr    \u001b[39m 2.1.5\n",
      "\u001b[32m✔\u001b[39m \u001b[34mforcats  \u001b[39m 1.0.0     \u001b[32m✔\u001b[39m \u001b[34mstringr  \u001b[39m 1.5.1\n",
      "\u001b[32m✔\u001b[39m \u001b[34mggplot2  \u001b[39m 3.5.1     \u001b[32m✔\u001b[39m \u001b[34mtibble   \u001b[39m 3.2.1\n",
      "\u001b[32m✔\u001b[39m \u001b[34mlubridate\u001b[39m 1.9.3     \u001b[32m✔\u001b[39m \u001b[34mtidyr    \u001b[39m 1.3.1\n",
      "\u001b[32m✔\u001b[39m \u001b[34mpurrr    \u001b[39m 1.0.2     \n",
      "── \u001b[1mConflicts\u001b[22m ────────────────────────────────────────── tidyverse_conflicts() ──\n",
      "\u001b[31m✖\u001b[39m \u001b[34mdplyr\u001b[39m::\u001b[32mcombine()\u001b[39m    masks \u001b[34mBiobase\u001b[39m::combine(), \u001b[34mBiocGenerics\u001b[39m::combine()\n",
      "\u001b[31m✖\u001b[39m \u001b[34mdplyr\u001b[39m::\u001b[32mfilter()\u001b[39m     masks \u001b[34mstats\u001b[39m::filter()\n",
      "\u001b[31m✖\u001b[39m \u001b[34mdplyr\u001b[39m::\u001b[32mlag()\u001b[39m        masks \u001b[34mstats\u001b[39m::lag()\n",
      "\u001b[31m✖\u001b[39m \u001b[34mggplot2\u001b[39m::\u001b[32mPosition()\u001b[39m masks \u001b[34mBiocGenerics\u001b[39m::Position(), \u001b[34mbase\u001b[39m::Position()\n",
      "\u001b[36mℹ\u001b[39m Use the conflicted package (\u001b[3m\u001b[34m<http://conflicted.r-lib.org/>\u001b[39m\u001b[23m) to force all conflicts to become errors\n",
      "Found 1 file(s)\n",
      "\n",
      "GSE273227_series_matrix.txt.gz\n",
      "\n",
      "Using locally cached version: /tmp/RtmpDc0YCG/GSE273227_series_matrix.txt.gz\n",
      "\n",
      "Using locally cached version of GPL24676 found here:\n",
      "/tmp/RtmpDc0YCG/GPL24676.soft.gz \n",
      "\n"
     ]
    }
   ],
   "source": [
    "# Load GEOquery package\n",
    "library(GEOquery)\n",
    "library(tidyverse)\n",
    "# Fetch the GEO series data\n",
    "gse <- getGEO(\"GSE273227\", GSEMatrix = TRUE)\n",
    "\n",
    "# Access the metadata\n",
    "# gse is a list, so we need to access the first element\n",
    "gse_data <- gse[[1]]\n",
    "\n",
    "# Get the sample metadata\n",
    "sample_metadata <- pData(gse_data)\n",
    "\n",
    "write_csv(sample_metadata, \"~/work/InputData/GSE273227_SkinTests/meta.csv\")\n",
    "\n",
    "# Should be trivial to optparse this when I need to"
   ]
  },
  {
   "cell_type": "code",
   "execution_count": null,
   "id": "6d3fb4b6-fe18-4354-b5f1-fa2bdfdd50cd",
   "metadata": {},
   "outputs": [],
   "source": []
  }
 ],
 "metadata": {
  "kernelspec": {
   "display_name": "R",
   "language": "R",
   "name": "ir"
  },
  "language_info": {
   "codemirror_mode": "r",
   "file_extension": ".r",
   "mimetype": "text/x-r-source",
   "name": "R",
   "pygments_lexer": "r",
   "version": "4.2.2"
  }
 },
 "nbformat": 4,
 "nbformat_minor": 5
}
