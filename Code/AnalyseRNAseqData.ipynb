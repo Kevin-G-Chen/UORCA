{
 "cells": [
  {
   "cell_type": "raw",
   "id": "232f6a47-2bc6-4384-8de9-14140fc9d4f8",
   "metadata": {},
   "source": [
    "This notebook will contain attempts to analyse Kallisto data.\n",
    "\n",
    "While Kallisto is downstream of downloading FASTQ files (and subsequently quantification via Kallisto), I will still just be starting here. \n",
    "\n",
    "My goals here are as follows:\n",
    "- Process metadata (including interpreting the different research groups, identifying what comparisons might be interesting, fixing any errors in the metadata. I will be providing a metadata sheet with mistakes to see how this will work.). Note that the prompt I end up needing here might have to be revised based on how I go with the dataset download.\n",
    "- Create (what I assume is) the DGEList object in Python, i.e. via PyDESeq2. If I can't get this to work, I will create an R script and call this script in Python. This is true for future steps too. Note that part of this entails being able to match samples to the correct files\n",
    "- Perform the filtering and normalisation. Should be straightfoward (I think...) if I can get the above to work\n",
    "- Perform the DEG analysis. Note that this relies on correctly identifying the groups. \n",
    "- Perform an ORA/GSEA. If I can get the above to work, this should be straightforward."
   ]
  },
  {
   "cell_type": "code",
   "execution_count": 1,
   "id": "86d5ce11-4322-466f-8ec6-397ca9f78750",
   "metadata": {},
   "outputs": [],
   "source": [
    "# Modules\n",
    "\n",
    "from openai import OpenAI\n",
    "import os\n",
    "import json\n",
    "from tqdm import tqdm\n",
    "import time\n",
    "import numpy as np\n",
    "import pandas as pd\n",
    "from dotenv import load_dotenv\n",
    "import instructor"
   ]
  },
  {
   "cell_type": "code",
   "execution_count": 4,
   "id": "2546b752-753c-4247-aa60-37fd3c702b1d",
   "metadata": {},
   "outputs": [],
   "source": [
    "load_dotenv('../.env')\n",
    "\n",
    "openai_api_key = os.getenv('OPENAI_API_KEY')"
   ]
  },
  {
   "cell_type": "code",
   "execution_count": 5,
   "id": "5d981877-4137-4ef5-b1e7-4478705bd96c",
   "metadata": {},
   "outputs": [
    {
     "name": "stdout",
     "output_type": "stream",
     "text": [
      "Red, Orange, Yellow, Green, Blue, Indigo, Violet.\n"
     ]
    }
   ],
   "source": [
    "# Test OpenAI API...\n",
    "\n",
    "client = OpenAI(\n",
    "  api_key=openai_api_key,  # this is also the default, it can be omitted\n",
    ")\n",
    "\n",
    "chat_completion = client.chat.completions.create(\n",
    "    messages=[\n",
    "        {\n",
    "            \"role\": \"user\",\n",
    "            \"content\": \"What are the colours of the rainbow? Only respond with the names of the colours.\",\n",
    "        }\n",
    "    ],\n",
    "    model=\"gpt-4o-mini\",\n",
    ")\n",
    "\n",
    "result = chat_completion.choices[0].message.content\n",
    "print(result)"
   ]
  },
  {
   "cell_type": "raw",
   "id": "98796af4-7e42-4728-8bbf-84fbd8b487d2",
   "metadata": {},
   "source": [
    "I think my goal will be to integrate R, OpenAI, and Python. I would feel more confident working with an edgeR/limma based pipeline. \n",
    "\n",
    "Therefore, I will begin with just a simple implementation, testing SETBP1 data.\n",
    "\n",
    "Note that while sample data is provided with pydeseq2, this is completely synthetic - the genes are not real, and therefore this ends up not being very valuable.\n",
    "\n",
    "With R integration, the specific steps are as follows:\n",
    "- Identify the Kallisto files\n",
    "- Identify other files (i.e. tx2gene)\n",
    "- \n"
   ]
  },
  {
   "cell_type": "code",
   "execution_count": null,
   "id": "b47ccf30-35f8-4a34-aa73-24503445a6ab",
   "metadata": {},
   "outputs": [],
   "source": []
  }
 ],
 "metadata": {
  "kernelspec": {
   "display_name": "Python (Poetry)",
   "language": "python",
   "name": "poetry-env"
  },
  "language_info": {
   "codemirror_mode": {
    "name": "ipython",
    "version": 3
   },
   "file_extension": ".py",
   "mimetype": "text/x-python",
   "name": "python",
   "nbconvert_exporter": "python",
   "pygments_lexer": "ipython3",
   "version": "3.12.4"
  }
 },
 "nbformat": 4,
 "nbformat_minor": 5
}
