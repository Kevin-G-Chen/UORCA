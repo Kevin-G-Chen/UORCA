{
 "cells": [
  {
   "cell_type": "raw",
   "id": "232f6a47-2bc6-4384-8de9-14140fc9d4f8",
   "metadata": {},
   "source": [
    "This notebook will contain attempts to analyse Kallisto data.\n",
    "\n",
    "While Kallisto is downstream of downloading FASTQ files (and subsequently quantification via Kallisto), I will still just be starting here. \n",
    "\n",
    "My goals here are as follows:\n",
    "- Process metadata (including interpreting the different research groups, identifying what comparisons might be interesting, fixing any errors in the metadata. I will be providing a metadata sheet with mistakes to see how this will work.). Note that the prompt I end up needing here might have to be revised based on how I go with the dataset download.\n",
    "- Create (what I assume is) the DGEList object in Python, i.e. via PyDESeq2. If I can't get this to work, I will create an R script and call this script in Python. This is true for future steps too. Note that part of this entails being able to match samples to the correct files\n",
    "- Perform the filtering and normalisation. Should be straightfoward (I think...) if I can get the above to work\n",
    "- Perform the DEG analysis. Note that this relies on correctly identifying the groups. \n",
    "- Perform an ORA/GSEA. If I can get the above to work, this should be straightforward."
   ]
  },
  {
   "cell_type": "code",
   "execution_count": 1,
   "id": "86d5ce11-4322-466f-8ec6-397ca9f78750",
   "metadata": {},
   "outputs": [],
   "source": [
    "# Modules\n",
    "\n",
    "from openai import OpenAI\n",
    "import os\n",
    "import json\n",
    "from tqdm import tqdm\n",
    "import time\n",
    "import numpy as np\n",
    "import pandas as pd\n",
    "from dotenv import load_dotenv\n",
    "import instructor"
   ]
  },
  {
   "cell_type": "code",
   "execution_count": 5,
   "id": "2546b752-753c-4247-aa60-37fd3c702b1d",
   "metadata": {},
   "outputs": [],
   "source": [
    "load_dotenv('../.env')\n",
    "\n",
    "openai_api_key = os.getenv('OPENAI_API_KEY')"
   ]
  },
  {
   "cell_type": "code",
   "execution_count": 6,
   "id": "5d981877-4137-4ef5-b1e7-4478705bd96c",
   "metadata": {},
   "outputs": [
    {
     "name": "stdout",
     "output_type": "stream",
     "text": [
      "Red, Orange, Yellow, Green, Blue, Indigo, Violet.\n"
     ]
    }
   ],
   "source": [
    "# Test OpenAI API...\n",
    "\n",
    "client = OpenAI(\n",
    "  api_key=openai_api_key,  # this is also the default, it can be omitted\n",
    ")\n",
    "\n",
    "chat_completion = client.chat.completions.create(\n",
    "    messages=[\n",
    "        {\n",
    "            \"role\": \"user\",\n",
    "            \"content\": \"What are the colours of the rainbow? Only respond with the names of the colours.\",\n",
    "        }\n",
    "    ],\n",
    "    model=\"gpt-4o-mini\",\n",
    ")\n",
    "\n",
    "result = chat_completion.choices[0].message.content\n",
    "print(result)"
   ]
  },
  {
   "cell_type": "raw",
   "id": "98796af4-7e42-4728-8bbf-84fbd8b487d2",
   "metadata": {},
   "source": [
    "I think my goal will be to integrate R, OpenAI, and Python. I would feel more confident working with an edgeR/limma based pipeline. \n",
    "\n",
    "Therefore, I will begin with just a simple implementation, testing SETBP1 data.\n",
    "\n",
    "Note that while sample data is provided with pydeseq2, this is completely synthetic - the genes are not real, and therefore this ends up not being very valuable.\n",
    "\n",
    "With R integration, the specific steps are as follows:\n",
    "- Identify the Kallisto files (likely no LLM needed)\n",
    "- Identify other files (i.e. tx2gene) (likely no LLM needed)\n",
    "- Process metadata, i.e. correct errors, match to Kallisto files (LLM needed)\n",
    "- Import Kallisto counts (no LLM needed)\n",
    "- Add metadata (and gene data) to the Kallisto counts, i.e. create DGEList object (no LLM needed)\n",
    "- Perform filtering and normalisation (no LLM needed, I can use default settings)\n",
    "- Define contrasts (probably the main hard part - from a value standpoint, there are considerations around which contrasts are interesting and valid, from the technical standpoint it's probably ok? Unsure how easily the LLM will interpret the metadata...)\n"
   ]
  },
  {
   "cell_type": "code",
   "execution_count": null,
   "id": "b47ccf30-35f8-4a34-aa73-24503445a6ab",
   "metadata": {},
   "outputs": [],
   "source": [
    "# Testing correction of metadata"
   ]
  },
  {
   "cell_type": "raw",
   "id": "d88fd0ff-c0d5-4b51-9f91-e5d241b4020c",
   "metadata": {},
   "source": [
    "I am going to begin with testing to see if I can get the LLM to analyse metadata."
   ]
  },
  {
   "cell_type": "code",
   "execution_count": 7,
   "id": "c1bab847-c833-43f6-8115-5435954848e5",
   "metadata": {},
   "outputs": [
    {
     "name": "stdout",
     "output_type": "stream",
     "text": [
      "OpenAI Analysis:\n",
      "The provided CSV data is about a series of biological samples related to transfection experiments, focusing on different genotypes, cell types, and the impact of neural differentiation over two time points (0 days and 24 days). The samples appear to involve genetically modified cells derived from induced pluripotent stem cells (iPSCs) and neural progenitor cells (NPCs). \n",
      "\n",
      "### Summary of the Data\n",
      "\n",
      "1. **Columns**:\n",
      "   - **Sample Name**: Identifier for each sample, containing various prefixes indicating the genotype and time point.\n",
      "   - **Transfection**: Represents different experimental groups designated by letters (A, B, C, D, E, F).\n",
      "   - **Genotype**: Indicates the genetic background of the samples, including variants and wild types such as \"VUS2 HDR/WT” and “WT/WT”.\n",
      "   - **Cell type**: Specifies if the sample is derived from iPSCs or NPCs.\n",
      "   - **Neural differentiation set**: Numeric value indicating a classification or additional grouping, varying from 1 to 2.\n",
      "\n",
      "2. **Samples**: There are a total of 24 samples in the dataset. Each transfection type correlates with both time points (0 days and 24 days) within each genotype.\n",
      "\n",
      "3. **Groupings**:\n",
      "   - **Transfection Types**: Six different transfection types (A, B, C, D, E, F) are present.\n",
      "   - **Genotypes**: A total of four genotypes can be distinguished: \"VUS2 HDR/WT,\" \"WT/WT,\" and unique identifiers for PATH1, PATH2, and PATH3.\n",
      "   - **Cell Types**: Two types are used: iPSC and NPC. All samples are transfected at both 0 and 24 days.\n",
      "\n",
      "### Insights\n",
      "\n",
      "1. **Transfection and Genotype Distribution**:\n",
      "   - Each transfection group is represented in both time points and combines different genotypes.\n",
      "   - It's notable that all transfections appear to utilize combinations of either the “HDR/WT” or “WT/WT” genotypes.\n",
      "\n",
      "2. **Time Point Analysis**:\n",
      "   - The samples are consistently divided between the two time points, indicating that changes or measurements at different stages of differentiation may be the focus of the experiments.\n",
      "   - The presence of neural differentiation sets numbered 1 and 2 hints at experimental design focusing on assessing variations or responses in the cell types.\n",
      "\n",
      "3. **Cell Type Analysis**:\n",
      "   - Across all transfection types, there are equal representations of iPSC and NPC samples, suggesting a balanced approach to examining both differentiated and undifferentiated cell states.\n",
      "   - The datasets seem to imply a shift towards more differentiated states in the 24-day time samples when compared to 0 days.\n",
      "\n",
      "4. **Application and Future Research**:\n",
      "   - The data can be leveraged to analyze the effects of different transfections on neural differentiation over time. Further statistical analysis could determine whether observed characteristics (e.g., cell viability or function) differ significantly between time points, transfection groups, or cell types.\n",
      "   - Possible interest in examining whether certain combinations of genotype and transfection correlate with more successful neural differentiation could be valuable for therapeutic research in regenerative medicine.\n",
      "\n",
      "### Conclusion\n",
      "\n",
      "This dataset provides a comprehensive overview of a transfection experiment that examines the nuances of genetic influences on neural differentiation across different cell types and timelines. It poses potential opportunities for deeper analyses regarding the effectiveness of genetic modifications in iPSCs and NPCs and their implications for research in neuroscience and regenerative therapies.\n"
     ]
    }
   ],
   "source": [
    "# Test reading of CSVs\n",
    "\n",
    "def read_csv(file_path):\n",
    "    return pd.read_csv(file_path)\n",
    "\n",
    "def create_prompt(df):\n",
    "    # Convert the dataframe to a string representation\n",
    "    csv_string = df.to_csv(index=False)\n",
    "\n",
    "    # As a test case, just doing a generic prompt\n",
    "    prompt = f\"\"\"Analyze the following CSV data:\n",
    "\n",
    "{csv_string}\n",
    "\n",
    "Please provide a summary of the data and any insights you can gather.\n",
    "\"\"\"\n",
    "    return prompt\n",
    "\n",
    "def get_openai_response(prompt, api_key):\n",
    "    client = OpenAI(api_key=api_key)\n",
    "    try:\n",
    "        chat_completion = client.chat.completions.create(\n",
    "            messages=[{\"role\": \"user\", \"content\": prompt}],\n",
    "            model=\"gpt-4o-mini\",\n",
    "        )\n",
    "        return chat_completion.choices[0].message.content\n",
    "    except Exception as e:\n",
    "        return f\"An error occurred: {str(e)}\"\n",
    "\n",
    "if __name__ == \"__main__\":\n",
    "    # Path to your CSV file\n",
    "    csv_file_path = \"../InputData/SETBP1_Tests/SETBP1_RNAseq_samples.csv\"\n",
    "    \n",
    "    # Read the CSV file\n",
    "    df = read_csv(csv_file_path)\n",
    "    \n",
    "    # Create a prompt with the CSV data\n",
    "    prompt = create_prompt(df)\n",
    "    \n",
    "    # Get the response from OpenAI\n",
    "    response = get_openai_response(prompt, openai_api_key)\n",
    "    \n",
    "    # Print the response\n",
    "    print(\"OpenAI Analysis:\")\n",
    "    print(response)"
   ]
  },
  {
   "cell_type": "code",
   "execution_count": null,
   "id": "0ff40434-4b29-4d85-9749-f25219082f3d",
   "metadata": {},
   "outputs": [],
   "source": []
  }
 ],
 "metadata": {
  "kernelspec": {
   "display_name": "Python (Poetry)",
   "language": "python",
   "name": "poetry-env"
  },
  "language_info": {
   "codemirror_mode": {
    "name": "ipython",
    "version": 3
   },
   "file_extension": ".py",
   "mimetype": "text/x-python",
   "name": "python",
   "nbconvert_exporter": "python",
   "pygments_lexer": "ipython3",
   "version": "3.12.4"
  }
 },
 "nbformat": 4,
 "nbformat_minor": 5
}
