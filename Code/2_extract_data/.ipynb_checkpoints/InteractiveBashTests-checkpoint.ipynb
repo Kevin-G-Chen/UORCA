{
 "cells": [
  {
   "cell_type": "markdown",
   "id": "0b07d70a-83f6-4d65-86c5-faf5d42e6c57",
   "metadata": {},
   "source": [
    "# Plan of action\n",
    "\n",
    "Here I'll be working towards developing a script for automated data extraction and Kallisto processing.\n",
    "\n",
    "The workflow to develop:\n",
    "- Extract metadata\n",
    "- From metadata, identify SRR accessions (I can't remember what they were called)\n",
    "- I need a Kallisto index. I'm tempted to just download the prebuilt indices...\n",
    "- Download the FASTQ files\n",
    "- Perform Kallisto processing.\n",
    "\n",
    "The goal is the have a bash script that can take in a single GEO accession and do all this. "
   ]
  },
  {
   "cell_type": "code",
   "execution_count": 9,
   "id": "f0c8be97-30b4-4c55-9ea3-44b7505aadfd",
   "metadata": {},
   "outputs": [
    {
     "name": "stdout",
     "output_type": "stream",
     "text": [
      "\u001b[?25h\u001b[?25h\u001b[?25h\u001b[?25h\u001b[?25h\u001b[?25hOutput directory exists: ../Testing/GSE273561 \n",
      "\u001b[?25hRetrieving metadata for GEO accession: GSE273561 \n",
      "\u001b[?25hFound 2 file(s)\n",
      "GSE273561-GPL24247_series_matrix.txt.gz\n",
      "Annotation GPL not available, so will use submitter GPL instead\n",
      "GSE273561-GPL24676_series_matrix.txt.gz\n",
      "Annotation GPL not available, so will use submitter GPL instead\n",
      "\u001b[?25hSaving metadata to: ../Testing/GSE273561/GSE273561-GPL24247_series_matrix_metadata.csv \n",
      "Saving metadata to: ../Testing/GSE273561/GSE273561-GPL24676_series_matrix_metadata.csv \n",
      "\u001b[?25hMetadata saved successfully!\n",
      "\u001b[?25h\u001b[?25h\n"
     ]
    }
   ],
   "source": [
    "Rscript ./RScript_GetGEOMetadata.r -g GSE273561 -o ../Testing/GSE273561"
   ]
  },
  {
   "cell_type": "markdown",
   "id": "c90f2f68-4650-45ca-b80c-7facfba8ce55",
   "metadata": {},
   "source": [
    "Hypothetically (and soon to be reality), the output of the above... might possibly be usable...?\n",
    "\n",
    "What I REALLY need is the SRA IDs. I can see in these datasets the information is in \"relations,\" but I am willing to bet that is not the case for all datasets. So my options are:\n",
    "a) Use an LLM to find this information in the metadata\n",
    "b) Optimize the original script to extract that information\n",
    "\n",
    "I will go with option A until I receive alternative advice.."
   ]
  },
  {
   "cell_type": "code",
   "execution_count": 13,
   "id": "1b47a3c2-af29-41fc-a457-b096adcc75ba",
   "metadata": {},
   "outputs": [
    {
     "name": "stdout",
     "output_type": "stream",
     "text": [
      "bash: esearch: command not found\n"
     ]
    },
    {
     "ename": "",
     "evalue": "127",
     "output_type": "error",
     "traceback": []
    }
   ],
   "source": [
    "esearch"
   ]
  },
  {
   "cell_type": "code",
   "execution_count": null,
   "id": "ad3b5e54-9576-4224-816e-935593767a44",
   "metadata": {},
   "outputs": [],
   "source": []
  }
 ],
 "metadata": {
  "kernelspec": {
   "display_name": "Bash",
   "language": "bash",
   "name": "bash"
  },
  "language_info": {
   "codemirror_mode": "shell",
   "file_extension": ".sh",
   "mimetype": "text/x-sh",
   "name": "bash"
  }
 },
 "nbformat": 4,
 "nbformat_minor": 5
}
