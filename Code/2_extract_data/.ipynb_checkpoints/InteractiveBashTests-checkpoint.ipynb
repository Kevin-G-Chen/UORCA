{
 "cells": [
  {
   "cell_type": "markdown",
   "id": "0b07d70a-83f6-4d65-86c5-faf5d42e6c57",
   "metadata": {},
   "source": [
    "# Plan of action\n",
    "\n",
    "Here I'll be working towards developing a script for automated data extraction and Kallisto processing.\n",
    "\n",
    "The workflow to develop:\n",
    "- Extract metadata\n",
    "- From metadata, identify SRR accessions (I can't remember what they were called)\n",
    "- I need a Kallisto index. I'm tempted to just download the prebuilt indices...\n",
    "- Download the FASTQ files\n",
    "- Perform Kallisto processing.\n",
    "\n",
    "The goal is the have a bash script that can take in a single GEO accession and do all this. "
   ]
  },
  {
   "cell_type": "code",
   "execution_count": 9,
   "id": "f0c8be97-30b4-4c55-9ea3-44b7505aadfd",
   "metadata": {},
   "outputs": [
    {
     "name": "stdout",
     "output_type": "stream",
     "text": [
      "\u001b[?25h\u001b[?25h\u001b[?25h\u001b[?25h\u001b[?25h\u001b[?25hOutput directory exists: ../Testing/GSE273561 \n",
      "\u001b[?25hRetrieving metadata for GEO accession: GSE273561 \n",
      "\u001b[?25hFound 2 file(s)\n",
      "GSE273561-GPL24247_series_matrix.txt.gz\n",
      "Annotation GPL not available, so will use submitter GPL instead\n",
      "GSE273561-GPL24676_series_matrix.txt.gz\n",
      "Annotation GPL not available, so will use submitter GPL instead\n",
      "\u001b[?25hSaving metadata to: ../Testing/GSE273561/GSE273561-GPL24247_series_matrix_metadata.csv \n",
      "Saving metadata to: ../Testing/GSE273561/GSE273561-GPL24676_series_matrix_metadata.csv \n",
      "\u001b[?25hMetadata saved successfully!\n",
      "\u001b[?25h\u001b[?25h\n"
     ]
    }
   ],
   "source": [
    "Rscript ./RScript_GetGEOMetadata.r -g GSE273561 -o ../Testing/GSE273561"
   ]
  },
  {
   "cell_type": "markdown",
   "id": "c90f2f68-4650-45ca-b80c-7facfba8ce55",
   "metadata": {},
   "source": [
    "Hypothetically (and soon to be reality), the output of the above... might possibly be usable...?\n",
    "\n",
    "What I REALLY need is the SRA IDs. I can see in these datasets the information is in \"relations,\" but I am willing to bet that is not the case for all datasets. So my options are:\n",
    "a) Use an LLM to find this information in the metadata\n",
    "b) Optimize the original script to extract that information\n",
    "\n",
    "I will go with option A until I receive alternative advice...\n",
    "\n",
    "Alternative advice received and sent by me - thanks me. I do think an LLM to check if the metadata and extracted SRR IDs (from below) align - this can form PART of the evaluation, in conjunction with interpreting the std.err/std.out.\n",
    "\n",
    "Update - going from I \"think\" to \"I can make a strong case for.\" For the Kallisto processing, I need to correctly identify the species. Text-matching is completely possible, but I would honestly feel more confident with an LLM to back this up. "
   ]
  },
  {
   "cell_type": "code",
   "execution_count": 5,
   "id": "1b47a3c2-af29-41fc-a457-b096adcc75ba",
   "metadata": {},
   "outputs": [
    {
     "name": "stdout",
     "output_type": "stream",
     "text": [
      "tput: No value for $TERM and no -T specified\n",
      "tput: No value for $TERM and no -T specified\n",
      "tput: No value for $TERM and no -T specified\n",
      "tput: No value for $TERM and no -T specified\n",
      "tput: No value for $TERM and no -T specified\n",
      "tput: No value for $TERM and no -T specified\n",
      "tput: No value for $TERM and no -T specified\n",
      "tput: No value for $TERM and no -T specified\n",
      "tput: No value for $TERM and no -T specified\n",
      "tput: No value for $TERM and no -T specified\n",
      "tput: No value for $TERM and no -T specified\n",
      "tput: No value for $TERM and no -T specified\n",
      "tput: No value for $TERM and no -T specified\n",
      "tput: No value for $TERM and no -T specified\n",
      "tput: No value for $TERM and no -T specified\n",
      "tput: No value for $TERM and no -T specified\n",
      "tput: No value for $TERM and no -T specified\n",
      "tput: No value for $TERM and no -T specified\n",
      "tput: No value for $TERM and no -T specified\n",
      "tput: No value for $TERM and no -T specified\n"
     ]
    }
   ],
   "source": [
    "esearch -db gds -query \"GSE273561[ACCN] AND GSM[ETYP]\" | \\\n",
    "efetch -format docsum | \\\n",
    "xtract -pattern ExtRelation -element RelationType,TargetObject | \\\n",
    "cut -f2 > output.txt"
   ]
  },
  {
   "cell_type": "code",
   "execution_count": 1,
   "id": "e0e59f2e-2e72-44d4-b1cd-d6a49d085086",
   "metadata": {},
   "outputs": [
    {
     "name": "stdout",
     "output_type": "stream",
     "text": [
      "dumb\n"
     ]
    }
   ],
   "source": [
    "echo $TERM"
   ]
  },
  {
   "cell_type": "markdown",
   "id": "0dd6aa9b-7f67-4b47-b12e-78c5ca7ffcb7",
   "metadata": {},
   "source": [
    "The output of above is inconvenient, I do think it's causing the code to hang (there are issues with =TERM=). Nonetheless, the output.txt is what I expect. I can now link these to SRA IDs (I hope).\n",
    "\n",
    "Wait, the above isn't hanging now? Not complaining... but something I need to keep in mind."
   ]
  },
  {
   "cell_type": "code",
   "execution_count": null,
   "id": "6954610c-3487-4499-a83e-9840502c9168",
   "metadata": {},
   "outputs": [
    {
     "name": "stdout",
     "output_type": "stream",
     "text": [
      "myuser@e3fa3416bfeb:~/work/Code/2_extract_data$ ^C\n",
      "myuser@e3fa3416bfeb:~/work/Code/2_extract_data$ tput: tput: No value for $TERM and no -T specifiedNo value for $TERM and no -T specified\n",
      "\n",
      "tput: No value for $TERM and no -T specified\n",
      "tput: No value for $TERM and no -T specified\n",
      "tput: No value for $TERM and no -T specified\n",
      "tput: No value for $TERM and no -T specified\n",
      "tput: No value for $TERM and no -T specified\n",
      "tput: No value for $TERM and no -T specified\n",
      "tput: No value for $TERM and no -T specified\n",
      "tput: No value for $TERM and no -T specified\n",
      "tput: No value for $TERM and no -T specified\n",
      "tput: No value for $TERM and no -T specified\n",
      "tput: No value for $TERM and no -T specified\n",
      "tput: No value for $TERM and no -T specified\n",
      "tput: No value for $TERM and no -T specified\n"
     ]
    }
   ],
   "source": [
    "esearch -db sra -query \"SRX25627130\" | efetch -format docsum | xtract -pattern DocumentSummary -element Run@acc"
   ]
  },
  {
   "cell_type": "code",
   "execution_count": null,
   "id": "a5a17d65-9c9f-4cac-ba70-8c7e4d491f10",
   "metadata": {},
   "outputs": [
    {
     "name": "stdout",
     "output_type": "stream",
     "text": [
      "myuser@e3fa3416bfeb:~/work/Code/2_extract_data$ ^C\n",
      "myuser@e3fa3416bfeb:~/work/Code/2_extract_data$ ExtractNCBIGEOData.ipynb    RScript_GetGEOData.r      output.txt\n",
      "InteractiveBashTests.ipynb  RScript_GetGEOMetadata.r\n"
     ]
    }
   ],
   "source": [
    "ls"
   ]
  },
  {
   "cell_type": "code",
   "execution_count": 4,
   "id": "038194cd-540b-48a2-b0c0-e6bca0538401",
   "metadata": {},
   "outputs": [
    {
     "name": "stdout",
     "output_type": "stream",
     "text": [
      "tput: No value for $TERM and no -T specified\n",
      "tput: No value for $TERM and no -T specified\n",
      "tput: No value for $TERM and no -T specified\n",
      "tput: No value for $TERM and no -T specified\n",
      "tput: No value for $TERM and no -T specified\n",
      "tput: No value for $TERM and no -T specified\n",
      "tput: No value for $TERM and no -T specified\n",
      "tput: No value for $TERM and no -T specified\n",
      "tput: No value for $TERM and no -T specified\n",
      "tput: No value for $TERM and no -T specified\n",
      "tput: No value for $TERM and no -T specified\n",
      "tput: No value for $TERM and no -T specified\n",
      "tput: No value for $TERM and no -T specified\n",
      "tput: No value for $TERM and no -T specified\n",
      "tput: No value for $TERM and no -T specified\n",
      "tput: No value for $TERM and no -T specified\n",
      "tput: No value for $TERM and no -T specified\n",
      "tput: No value for $TERM and no -T specified\n",
      "tput: No value for $TERM and no -T specified\n",
      "tput: No value for $TERM and no -T specified\n",
      "SRR30159870\n"
     ]
    }
   ],
   "source": [
    "esearch -db sra -query \"SRX25627130\" | efetch -format docsum | xtract -pattern DocumentSummary -element Run@acc"
   ]
  },
  {
   "cell_type": "code",
   "execution_count": null,
   "id": "bfdb97c8-d818-4cc1-bbf8-63cc3672f60a",
   "metadata": {},
   "outputs": [],
   "source": []
  }
 ],
 "metadata": {
  "kernelspec": {
   "display_name": "Bash",
   "language": "bash",
   "name": "bash"
  },
  "language_info": {
   "codemirror_mode": "shell",
   "file_extension": ".sh",
   "mimetype": "text/x-sh",
   "name": "bash"
  }
 },
 "nbformat": 4,
 "nbformat_minor": 5
}
